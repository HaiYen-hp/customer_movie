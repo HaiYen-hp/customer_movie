{
 "cells": [
  {
   "cell_type": "code",
   "execution_count": 5,
   "metadata": {},
   "outputs": [],
   "source": [
    "import pandas as pd\n",
    "import datetime\n",
    "import seaborn as sns\n",
    "import matplotlib.pyplot as plt"
   ]
  },
  {
   "cell_type": "markdown",
   "metadata": {},
   "source": [
    "Sử dụng phương pháp phân tập khách hàng: Lần đặt hàng gần đây(Recency) - Tần suất(Frequency) - Giá trị tiền tệ(Monetary). Nghĩa là sẽ chia khách hàng thành các nhóm dựa trên những điều sau:\n",
    "- Recency: Hành vi xem phim trên rạp chiếu phim của khách hàng dựa trên ngày xem phim gần đây nhất của họ và số ngày họ không hoạt động kể từ lần xem cuối cùng.\n",
    "- Frequency: Hành vi mua vé xem của khách hàng dựa trên số lần họ mua vé xem phim từ rạp chiếu phim.\n",
    "- Monetary Value/Revenue: Hành vi mua vé của khách hàng dựa trên doanh thu họ tạo ra."
   ]
  },
  {
   "cell_type": "code",
   "execution_count": 6,
   "metadata": {},
   "outputs": [],
   "source": [
    "df = pd.read_excel('./MAP_TICKET_AND_FILM_NEW.xlsx')\n",
    "customer = pd.read_excel('./DATA SET - VÒNG 1 CUỘC THI DATA GOT TALENT 2023 CLEAN VER5.xlsx', sheet_name='customer')"
   ]
  },
  {
   "cell_type": "markdown",
   "metadata": {},
   "source": [
    "Trong mô hình RFM của Movio, người xem phim được phân loại theo lần xem gần đây, tần suất và mức chi tiêu trung bình của họ. Sau đó, chúng được phân đoạn theo việc chúng nằm trên hay dưới giá trị trung bình cho mỗi thuộc tính.\n",
    "\n",
    "Các mức trung bình được chọn cho mô hình này nhằm cung cấp số liệu ổn định, không biến động mà nhờ đó chúng tôi có thể nắm bắt được sự phát triển hành vi của thành viên trên tất cả các phân khúc. Các mức trung vị cũng đảm bảo sự phân bổ đồng đều lượng người xem phim trên tất cả tám phân khúc, mỗi phân khúc nắm bắt đặc điểm và hành vi của người xem phim một cách độc đáo.\n",
    "\n",
    "Link tham khảo: https://vistagroup.co.nz/blog/rfm-the-triple-threat-designed-to-increase-high-value-moviegoers"
   ]
  },
  {
   "cell_type": "code",
   "execution_count": 7,
   "metadata": {},
   "outputs": [
    {
     "data": {
      "text/plain": [
       "Index(['orderid', 'cashier', 'saledate', 'total', 'customerid', 'ticketcode',\n",
       "       'date', 'time', 'slot', 'room', 'film', 'slot type', 'ticket type',\n",
       "       'ticket price', 'popcorn', 'title_clean', 'show_id', 'title',\n",
       "       'release_year', 'rating', 'duration', 'description', 'original_title',\n",
       "       'production_companies', 'release_date', 'poster_path', 'revenue',\n",
       "       'vote_average', 'vote_count', 'country', 'cast', 'genres', 'director'],\n",
       "      dtype='object')"
      ]
     },
     "execution_count": 7,
     "metadata": {},
     "output_type": "execute_result"
    }
   ],
   "source": [
    "df.columns"
   ]
  },
  {
   "cell_type": "markdown",
   "metadata": {},
   "source": [
    "Ngày hiện tại sẽ lấy ngày cuối cùng có trong trường date ngày xem phim của khách hàng + 1"
   ]
  },
  {
   "cell_type": "code",
   "execution_count": 8,
   "metadata": {},
   "outputs": [
    {
     "data": {
      "text/html": [
       "<div>\n",
       "<style scoped>\n",
       "    .dataframe tbody tr th:only-of-type {\n",
       "        vertical-align: middle;\n",
       "    }\n",
       "\n",
       "    .dataframe tbody tr th {\n",
       "        vertical-align: top;\n",
       "    }\n",
       "\n",
       "    .dataframe thead th {\n",
       "        text-align: right;\n",
       "    }\n",
       "</style>\n",
       "<table border=\"1\" class=\"dataframe\">\n",
       "  <thead>\n",
       "    <tr style=\"text-align: right;\">\n",
       "      <th></th>\n",
       "      <th>customerid</th>\n",
       "      <th>max_date</th>\n",
       "    </tr>\n",
       "  </thead>\n",
       "  <tbody>\n",
       "    <tr>\n",
       "      <th>0</th>\n",
       "      <td>0000000014</td>\n",
       "      <td>2019-05-06</td>\n",
       "    </tr>\n",
       "    <tr>\n",
       "      <th>1</th>\n",
       "      <td>0000000034</td>\n",
       "      <td>2019-05-30</td>\n",
       "    </tr>\n",
       "    <tr>\n",
       "      <th>2</th>\n",
       "      <td>0000000051</td>\n",
       "      <td>2019-05-22</td>\n",
       "    </tr>\n",
       "    <tr>\n",
       "      <th>3</th>\n",
       "      <td>0000000081</td>\n",
       "      <td>2019-05-05</td>\n",
       "    </tr>\n",
       "    <tr>\n",
       "      <th>4</th>\n",
       "      <td>0000000098</td>\n",
       "      <td>2019-05-25</td>\n",
       "    </tr>\n",
       "  </tbody>\n",
       "</table>\n",
       "</div>"
      ],
      "text/plain": [
       "   customerid   max_date\n",
       "0  0000000014 2019-05-06\n",
       "1  0000000034 2019-05-30\n",
       "2  0000000051 2019-05-22\n",
       "3  0000000081 2019-05-05\n",
       "4  0000000098 2019-05-25"
      ]
     },
     "execution_count": 8,
     "metadata": {},
     "output_type": "execute_result"
    }
   ],
   "source": [
    "ctm_max_date = df.groupby(\n",
    "    'customerid')['date'].max().reset_index()\n",
    "ctm_max_date.columns = ['customerid', 'max_date']\n",
    "ctm_max_date.head()"
   ]
  },
  {
   "cell_type": "code",
   "execution_count": 9,
   "metadata": {},
   "outputs": [
    {
     "data": {
      "text/html": [
       "<div>\n",
       "<style scoped>\n",
       "    .dataframe tbody tr th:only-of-type {\n",
       "        vertical-align: middle;\n",
       "    }\n",
       "\n",
       "    .dataframe tbody tr th {\n",
       "        vertical-align: top;\n",
       "    }\n",
       "\n",
       "    .dataframe thead th {\n",
       "        text-align: right;\n",
       "    }\n",
       "</style>\n",
       "<table border=\"1\" class=\"dataframe\">\n",
       "  <thead>\n",
       "    <tr style=\"text-align: right;\">\n",
       "      <th></th>\n",
       "      <th>customerid</th>\n",
       "      <th>DOB</th>\n",
       "      <th>gender</th>\n",
       "      <th>address</th>\n",
       "      <th>Website</th>\n",
       "      <th>job</th>\n",
       "      <th>industry</th>\n",
       "      <th>Recency</th>\n",
       "    </tr>\n",
       "  </thead>\n",
       "  <tbody>\n",
       "    <tr>\n",
       "      <th>0</th>\n",
       "      <td>0000000014</td>\n",
       "      <td>1970-01-01 10:04:28</td>\n",
       "      <td>Nữ</td>\n",
       "      <td>hoa khe quan thanh khe</td>\n",
       "      <td>KH0104|0345</td>\n",
       "      <td>student</td>\n",
       "      <td>computer</td>\n",
       "      <td>26</td>\n",
       "    </tr>\n",
       "    <tr>\n",
       "      <th>1</th>\n",
       "      <td>0000000034</td>\n",
       "      <td>1970-01-01 09:58:21</td>\n",
       "      <td>Nam</td>\n",
       "      <td>man thai</td>\n",
       "      <td>KH0104|0333</td>\n",
       "      <td>student</td>\n",
       "      <td>health service</td>\n",
       "      <td>2</td>\n",
       "    </tr>\n",
       "    <tr>\n",
       "      <th>2</th>\n",
       "      <td>0000000051</td>\n",
       "      <td>1970-01-01 09:31:59</td>\n",
       "      <td>Nam</td>\n",
       "      <td>que son quang nam</td>\n",
       "      <td>KH0104|0255</td>\n",
       "      <td>blue collar</td>\n",
       "      <td>economics</td>\n",
       "      <td>10</td>\n",
       "    </tr>\n",
       "    <tr>\n",
       "      <th>3</th>\n",
       "      <td>0000000081</td>\n",
       "      <td>1970-01-01 10:07:52</td>\n",
       "      <td>Nam</td>\n",
       "      <td>truong chinh</td>\n",
       "      <td>KH0104|0293</td>\n",
       "      <td>student</td>\n",
       "      <td>economics</td>\n",
       "      <td>27</td>\n",
       "    </tr>\n",
       "    <tr>\n",
       "      <th>4</th>\n",
       "      <td>0000000098</td>\n",
       "      <td>1970-01-01 09:36:48</td>\n",
       "      <td>Nam</td>\n",
       "      <td>cẩm lệ</td>\n",
       "      <td>KH0104|40580</td>\n",
       "      <td>blue collar</td>\n",
       "      <td>health service</td>\n",
       "      <td>7</td>\n",
       "    </tr>\n",
       "  </tbody>\n",
       "</table>\n",
       "</div>"
      ],
      "text/plain": [
       "   customerid                 DOB gender                 address  \\\n",
       "0  0000000014 1970-01-01 10:04:28     Nữ  hoa khe quan thanh khe   \n",
       "1  0000000034 1970-01-01 09:58:21    Nam                man thai   \n",
       "2  0000000051 1970-01-01 09:31:59    Nam       que son quang nam   \n",
       "3  0000000081 1970-01-01 10:07:52    Nam            truong chinh   \n",
       "4  0000000098 1970-01-01 09:36:48    Nam                  cẩm lệ   \n",
       "\n",
       "        Website          job        industry  Recency  \n",
       "0   KH0104|0345      student        computer       26  \n",
       "1   KH0104|0333      student  health service        2  \n",
       "2   KH0104|0255  blue collar       economics       10  \n",
       "3   KH0104|0293      student       economics       27  \n",
       "4  KH0104|40580  blue collar  health service        7  "
      ]
     },
     "execution_count": 9,
     "metadata": {},
     "output_type": "execute_result"
    }
   ],
   "source": [
    "# Find the recency in days\n",
    "now = df.date.max() + datetime.timedelta(days=1)\n",
    "ctm_max_date['Recency'] = (now - pd.to_datetime(ctm_max_date['max_date'])).dt.days\n",
    "\n",
    "# Merge the dataframes ctm_dt and ctm_max_purchase[['Customer ID', 'Recency']] on the CustomerID column.\n",
    "customer = pd.merge(\n",
    "    customer, ctm_max_date[['customerid', 'Recency']], on='customerid')\n",
    "customer.head()"
   ]
  },
  {
   "cell_type": "code",
   "execution_count": 10,
   "metadata": {},
   "outputs": [],
   "source": [
    "ctm_frequency = df.drop_duplicates(subset='orderid').groupby('customerid')[\n",
    "    'orderid'].count().reset_index()\n",
    "ctm_frequency.columns = ['customerid', 'Frequency']"
   ]
  },
  {
   "cell_type": "code",
   "execution_count": 11,
   "metadata": {},
   "outputs": [
    {
     "data": {
      "text/html": [
       "<div>\n",
       "<style scoped>\n",
       "    .dataframe tbody tr th:only-of-type {\n",
       "        vertical-align: middle;\n",
       "    }\n",
       "\n",
       "    .dataframe tbody tr th {\n",
       "        vertical-align: top;\n",
       "    }\n",
       "\n",
       "    .dataframe thead th {\n",
       "        text-align: right;\n",
       "    }\n",
       "</style>\n",
       "<table border=\"1\" class=\"dataframe\">\n",
       "  <thead>\n",
       "    <tr style=\"text-align: right;\">\n",
       "      <th></th>\n",
       "      <th>customerid</th>\n",
       "      <th>DOB</th>\n",
       "      <th>gender</th>\n",
       "      <th>address</th>\n",
       "      <th>Website</th>\n",
       "      <th>job</th>\n",
       "      <th>industry</th>\n",
       "      <th>Recency</th>\n",
       "      <th>Frequency</th>\n",
       "    </tr>\n",
       "  </thead>\n",
       "  <tbody>\n",
       "    <tr>\n",
       "      <th>0</th>\n",
       "      <td>0000000014</td>\n",
       "      <td>1970-01-01 10:04:28</td>\n",
       "      <td>Nữ</td>\n",
       "      <td>hoa khe quan thanh khe</td>\n",
       "      <td>KH0104|0345</td>\n",
       "      <td>student</td>\n",
       "      <td>computer</td>\n",
       "      <td>26</td>\n",
       "      <td>1</td>\n",
       "    </tr>\n",
       "    <tr>\n",
       "      <th>1</th>\n",
       "      <td>0000000034</td>\n",
       "      <td>1970-01-01 09:58:21</td>\n",
       "      <td>Nam</td>\n",
       "      <td>man thai</td>\n",
       "      <td>KH0104|0333</td>\n",
       "      <td>student</td>\n",
       "      <td>health service</td>\n",
       "      <td>2</td>\n",
       "      <td>2</td>\n",
       "    </tr>\n",
       "    <tr>\n",
       "      <th>2</th>\n",
       "      <td>0000000051</td>\n",
       "      <td>1970-01-01 09:31:59</td>\n",
       "      <td>Nam</td>\n",
       "      <td>que son quang nam</td>\n",
       "      <td>KH0104|0255</td>\n",
       "      <td>blue collar</td>\n",
       "      <td>economics</td>\n",
       "      <td>10</td>\n",
       "      <td>1</td>\n",
       "    </tr>\n",
       "    <tr>\n",
       "      <th>3</th>\n",
       "      <td>0000000081</td>\n",
       "      <td>1970-01-01 10:07:52</td>\n",
       "      <td>Nam</td>\n",
       "      <td>truong chinh</td>\n",
       "      <td>KH0104|0293</td>\n",
       "      <td>student</td>\n",
       "      <td>economics</td>\n",
       "      <td>27</td>\n",
       "      <td>2</td>\n",
       "    </tr>\n",
       "    <tr>\n",
       "      <th>4</th>\n",
       "      <td>0000000098</td>\n",
       "      <td>1970-01-01 09:36:48</td>\n",
       "      <td>Nam</td>\n",
       "      <td>cẩm lệ</td>\n",
       "      <td>KH0104|40580</td>\n",
       "      <td>blue collar</td>\n",
       "      <td>health service</td>\n",
       "      <td>7</td>\n",
       "      <td>2</td>\n",
       "    </tr>\n",
       "  </tbody>\n",
       "</table>\n",
       "</div>"
      ],
      "text/plain": [
       "   customerid                 DOB gender                 address  \\\n",
       "0  0000000014 1970-01-01 10:04:28     Nữ  hoa khe quan thanh khe   \n",
       "1  0000000034 1970-01-01 09:58:21    Nam                man thai   \n",
       "2  0000000051 1970-01-01 09:31:59    Nam       que son quang nam   \n",
       "3  0000000081 1970-01-01 10:07:52    Nam            truong chinh   \n",
       "4  0000000098 1970-01-01 09:36:48    Nam                  cẩm lệ   \n",
       "\n",
       "        Website          job        industry  Recency  Frequency  \n",
       "0   KH0104|0345      student        computer       26          1  \n",
       "1   KH0104|0333      student  health service        2          2  \n",
       "2   KH0104|0255  blue collar       economics       10          1  \n",
       "3   KH0104|0293      student       economics       27          2  \n",
       "4  KH0104|40580  blue collar  health service        7          2  "
      ]
     },
     "execution_count": 11,
     "metadata": {},
     "output_type": "execute_result"
    }
   ],
   "source": [
    "customer = pd.merge(customer, ctm_frequency, on='customerid')\n",
    "customer.head()"
   ]
  },
  {
   "cell_type": "code",
   "execution_count": 8,
   "metadata": {},
   "outputs": [
    {
     "data": {
      "text/plain": [
       "orderid                 1975\n",
       "cashier                    0\n",
       "saledate                1975\n",
       "total                      0\n",
       "customerid                 0\n",
       "ticketcode                 0\n",
       "date                       0\n",
       "time                       0\n",
       "slot                       0\n",
       "room                       0\n",
       "film                       0\n",
       "slot type                  0\n",
       "ticket type                0\n",
       "ticket price               0\n",
       "popcorn                    0\n",
       "title_clean                0\n",
       "show_id                    0\n",
       "title                      0\n",
       "release_year               0\n",
       "rating                  6595\n",
       "duration                   0\n",
       "description                0\n",
       "original_title             0\n",
       "production_companies       0\n",
       "release_date               0\n",
       "poster_path                0\n",
       "revenue                    0\n",
       "vote_average               0\n",
       "vote_count                 0\n",
       "country                 6435\n",
       "cast                       0\n",
       "genres                     0\n",
       "director                   0\n",
       "dtype: int64"
      ]
     },
     "execution_count": 8,
     "metadata": {},
     "output_type": "execute_result"
    }
   ],
   "source": [
    "df.isnull().sum()"
   ]
  },
  {
   "cell_type": "code",
   "execution_count": 12,
   "metadata": {},
   "outputs": [],
   "source": [
    "ctm_revenue = df.groupby('customerid').total.sum().reset_index()\n",
    "ctm_revenue.columns = ['customerid', 'Monetary']\n",
    "customer = pd.merge(customer, ctm_revenue, on='customerid')"
   ]
  },
  {
   "cell_type": "code",
   "execution_count": 10,
   "metadata": {},
   "outputs": [
    {
     "data": {
      "text/plain": [
       "Index(['customerid', 'DOB', 'gender', 'address', 'Website', 'job', 'industry',\n",
       "       'Recency', 'Frequency', 'Monetary'],\n",
       "      dtype='object')"
      ]
     },
     "execution_count": 10,
     "metadata": {},
     "output_type": "execute_result"
    }
   ],
   "source": [
    "customer.columns"
   ]
  },
  {
   "cell_type": "code",
   "execution_count": 13,
   "metadata": {},
   "outputs": [
    {
     "data": {
      "text/plain": [
       "15.0"
      ]
     },
     "execution_count": 13,
     "metadata": {},
     "output_type": "execute_result"
    }
   ],
   "source": [
    "customer.Recency.median()"
   ]
  },
  {
   "cell_type": "code",
   "execution_count": 14,
   "metadata": {},
   "outputs": [
    {
     "data": {
      "text/plain": [
       "1.0"
      ]
     },
     "execution_count": 14,
     "metadata": {},
     "output_type": "execute_result"
    }
   ],
   "source": [
    "customer.Frequency.median()"
   ]
  },
  {
   "cell_type": "code",
   "execution_count": 15,
   "metadata": {},
   "outputs": [
    {
     "data": {
      "text/plain": [
       "array([   1,    2,    3,    4,    6,    7,    5,    9, 2854,    0,    8,\n",
       "        206,   14,   10,   19,   11,   18, 4043], dtype=int64)"
      ]
     },
     "execution_count": 15,
     "metadata": {},
     "output_type": "execute_result"
    }
   ],
   "source": [
    "customer.Frequency.unique()"
   ]
  },
  {
   "cell_type": "code",
   "execution_count": 16,
   "metadata": {},
   "outputs": [
    {
     "data": {
      "text/plain": [
       "5400000.0"
      ]
     },
     "execution_count": 16,
     "metadata": {},
     "output_type": "execute_result"
    }
   ],
   "source": [
    "customer.Monetary.median()"
   ]
  },
  {
   "cell_type": "code",
   "execution_count": 17,
   "metadata": {},
   "outputs": [
    {
     "data": {
      "image/png": "[encoded data removed]",
      "text/plain": [
       "<Figure size 1500x1500 with 3 Axes>"
      ]
     },
     "metadata": {},
     "output_type": "display_data"
    }
   ],
   "source": [
    "# Visualization box plot to see outlier values in numerical features\n",
    "# columns = list(df.select_dtypes(include=['int', 'float']))\n",
    "columns = ['Recency', 'Frequency', 'Monetary']\n",
    "length = len(columns)\n",
    "sns.set_theme(style=\"ticks\")\n",
    "# Draw box plot\n",
    "fig = plt.figure(figsize=[15, 15])\n",
    "for idx, col in zip(range(length+1), columns):\n",
    "    ax = plt.subplot(2, 2, idx+1)\n",
    "    # No need remove outlier in statistical part\n",
    "    sns.boxplot(x=customer[col], width=.5, palette=\"muted\", ax=ax, linewidth=.5)"
   ]
  },
  {
   "cell_type": "code",
   "execution_count": 18,
   "metadata": {},
   "outputs": [],
   "source": [
    "#Remove outliner\n",
    "def remove_outlier(df_in, col_name):\n",
    "    q1 = df_in[col_name].quantile(0.25)\n",
    "    q3 = df_in[col_name].quantile(0.75)\n",
    "    iqr = q3-q1 #Interquartile range\n",
    "    fence_low  = q1-1.5*iqr\n",
    "    fence_high = q3+1.5*iqr\n",
    "    df_out = df_in.loc[(df_in[col_name] > fence_low) & (df_in[col_name] < fence_high)]\n",
    "    return df_out"
   ]
  },
  {
   "cell_type": "code",
   "execution_count": 19,
   "metadata": {},
   "outputs": [],
   "source": [
    "customer_remove_outlier = remove_outlier(customer, 'Monetary')\n",
    "customer_remove_outlier = remove_outlier(customer, 'Frequency')"
   ]
  },
  {
   "cell_type": "code",
   "execution_count": 20,
   "metadata": {},
   "outputs": [
    {
     "data": {
      "image/png": "[encoded data removed]",
      "text/plain": [
       "<Figure size 1500x1500 with 3 Axes>"
      ]
     },
     "metadata": {},
     "output_type": "display_data"
    }
   ],
   "source": [
    "# Visualization box plot to see outlier values in numerical features\n",
    "# columns = list(df.select_dtypes(include=['int', 'float']))\n",
    "columns = ['Recency', 'Frequency', 'Monetary']\n",
    "length = len(columns)\n",
    "sns.set_theme(style=\"ticks\")\n",
    "# Draw box plot\n",
    "fig = plt.figure(figsize=[15, 15])\n",
    "for idx, col in zip(range(length+1), columns):\n",
    "    ax = plt.subplot(2, 2, idx+1)\n",
    "    # No need remove outlier in statistical part\n",
    "    sns.boxplot(x=customer_remove_outlier[col], width=.5,\n",
    "                palette=\"muted\", ax=ax, linewidth=.5)"
   ]
  },
  {
   "cell_type": "code",
   "execution_count": 21,
   "metadata": {},
   "outputs": [
    {
     "data": {
      "text/plain": [
       "1.0"
      ]
     },
     "execution_count": 21,
     "metadata": {},
     "output_type": "execute_result"
    }
   ],
   "source": [
    "customer_remove_outlier.Frequency.median()"
   ]
  },
  {
   "cell_type": "code",
   "execution_count": 22,
   "metadata": {},
   "outputs": [
    {
     "data": {
      "text/plain": [
       "5400000.0"
      ]
     },
     "execution_count": 22,
     "metadata": {},
     "output_type": "execute_result"
    }
   ],
   "source": [
    "customer_remove_outlier.Monetary.median()"
   ]
  },
  {
   "cell_type": "markdown",
   "metadata": {},
   "source": [
    "![image](./650931df94ebf3cb896011d3_RFM-TRIPLE-THREAT.png)"
   ]
  },
  {
   "cell_type": "code",
   "execution_count": 23,
   "metadata": {},
   "outputs": [],
   "source": [
    "def customer_segment(df):\n",
    "    for index, row in df.iterrows():\n",
    "        if (row['Frequency'] > df.Frequency.median()) & (row['Recency'] <= df.Recency.median()) & (row['Monetary'] > df.Monetary.median()):\n",
    "            df.at[index, 'customer_segmentation'] = 'Loyal moviegoers'\n",
    "        elif (row['Frequency'] > df.Frequency.median()) & (row['Recency'] <= df.Recency.median()) & (row['Monetary'] <= df.Monetary.median()):\n",
    "            df.at[index, 'customer_segmentation'] = 'Promising'\n",
    "        elif (row['Frequency'] <= df.Frequency.median()) & (row['Recency'] <= df.Recency.median()) & (row['Monetary'] > df.Monetary.median()):\n",
    "            df.at[index, 'customer_segmentation'] = 'Potential loyalist'\n",
    "        elif (row['Frequency'] <= df.Frequency.median()) & (row['Recency'] <= df.Recency.median()) & (row['Monetary'] <= df.Monetary.median()):\n",
    "            df.at[index, 'customer_segmentation'] = 'Recent customers'\n",
    "        elif (row['Frequency'] > df.Frequency.median()) & (row['Recency'] > df.Recency.median()) & (row['Monetary'] > df.Monetary.median()):\n",
    "            df.at[index, 'customer_segmentation'] = 'At risk'\n",
    "        elif (row['Frequency'] > df.Frequency.median()) & (row['Recency'] > df.Recency.median()) & (row['Monetary'] <= df.Monetary.median()):\n",
    "            df.at[index, 'customer_segmentation'] = 'About to sleep'\n",
    "        elif (row['Frequency'] <= df.Frequency.median()) & (row['Recency'] > df.Recency.median()) & (row['Monetary'] > df.Monetary.median()):\n",
    "            df.at[index, 'customer_segmentation'] = 'Needing attention'\n",
    "        elif (row['Frequency'] <= df.Frequency.median()) & (row['Recency'] > df.Recency.median()) & (row['Monetary'] <= df.Monetary.median()):\n",
    "            df.at[index, 'customer_segmentation'] = 'About to be lost'\n",
    "    return df"
   ]
  },
  {
   "cell_type": "code",
   "execution_count": 24,
   "metadata": {},
   "outputs": [],
   "source": [
    "customer_segment_df = customer_segment(customer)"
   ]
  },
  {
   "cell_type": "code",
   "execution_count": 25,
   "metadata": {},
   "outputs": [
    {
     "data": {
      "text/plain": [
       "customerid                 0\n",
       "DOB                        0\n",
       "gender                     0\n",
       "address                    0\n",
       "Website                  509\n",
       "job                        0\n",
       "industry                   0\n",
       "Recency                    0\n",
       "Frequency                  0\n",
       "Monetary                   0\n",
       "customer_segmentation      0\n",
       "dtype: int64"
      ]
     },
     "execution_count": 25,
     "metadata": {},
     "output_type": "execute_result"
    }
   ],
   "source": [
    "customer.isnull().sum()"
   ]
  },
  {
   "cell_type": "code",
   "execution_count": 26,
   "metadata": {},
   "outputs": [
    {
     "data": {
      "text/html": [
       "<div>\n",
       "<style scoped>\n",
       "    .dataframe tbody tr th:only-of-type {\n",
       "        vertical-align: middle;\n",
       "    }\n",
       "\n",
       "    .dataframe tbody tr th {\n",
       "        vertical-align: top;\n",
       "    }\n",
       "\n",
       "    .dataframe thead th {\n",
       "        text-align: right;\n",
       "    }\n",
       "</style>\n",
       "<table border=\"1\" class=\"dataframe\">\n",
       "  <thead>\n",
       "    <tr style=\"text-align: right;\">\n",
       "      <th></th>\n",
       "      <th>customerid</th>\n",
       "      <th>DOB</th>\n",
       "      <th>gender</th>\n",
       "      <th>address</th>\n",
       "      <th>Website</th>\n",
       "      <th>job</th>\n",
       "      <th>industry</th>\n",
       "      <th>Recency</th>\n",
       "      <th>Frequency</th>\n",
       "      <th>Monetary</th>\n",
       "      <th>customer_segmentation</th>\n",
       "    </tr>\n",
       "  </thead>\n",
       "  <tbody>\n",
       "    <tr>\n",
       "      <th>0</th>\n",
       "      <td>0000000014</td>\n",
       "      <td>1970-01-01 10:04:28</td>\n",
       "      <td>Nữ</td>\n",
       "      <td>hoa khe quan thanh khe</td>\n",
       "      <td>KH0104|0345</td>\n",
       "      <td>student</td>\n",
       "      <td>computer</td>\n",
       "      <td>26</td>\n",
       "      <td>1</td>\n",
       "      <td>5400000</td>\n",
       "      <td>About to be lost</td>\n",
       "    </tr>\n",
       "    <tr>\n",
       "      <th>1</th>\n",
       "      <td>0000000034</td>\n",
       "      <td>1970-01-01 09:58:21</td>\n",
       "      <td>Nam</td>\n",
       "      <td>man thai</td>\n",
       "      <td>KH0104|0333</td>\n",
       "      <td>student</td>\n",
       "      <td>health service</td>\n",
       "      <td>2</td>\n",
       "      <td>2</td>\n",
       "      <td>4500000</td>\n",
       "      <td>Promising</td>\n",
       "    </tr>\n",
       "    <tr>\n",
       "      <th>2</th>\n",
       "      <td>0000000051</td>\n",
       "      <td>1970-01-01 09:31:59</td>\n",
       "      <td>Nam</td>\n",
       "      <td>que son quang nam</td>\n",
       "      <td>KH0104|0255</td>\n",
       "      <td>blue collar</td>\n",
       "      <td>economics</td>\n",
       "      <td>10</td>\n",
       "      <td>1</td>\n",
       "      <td>2700000</td>\n",
       "      <td>Recent customers</td>\n",
       "    </tr>\n",
       "    <tr>\n",
       "      <th>3</th>\n",
       "      <td>0000000081</td>\n",
       "      <td>1970-01-01 10:07:52</td>\n",
       "      <td>Nam</td>\n",
       "      <td>truong chinh</td>\n",
       "      <td>KH0104|0293</td>\n",
       "      <td>student</td>\n",
       "      <td>economics</td>\n",
       "      <td>27</td>\n",
       "      <td>2</td>\n",
       "      <td>10800000</td>\n",
       "      <td>At risk</td>\n",
       "    </tr>\n",
       "    <tr>\n",
       "      <th>4</th>\n",
       "      <td>0000000098</td>\n",
       "      <td>1970-01-01 09:36:48</td>\n",
       "      <td>Nam</td>\n",
       "      <td>cẩm lệ</td>\n",
       "      <td>KH0104|40580</td>\n",
       "      <td>blue collar</td>\n",
       "      <td>health service</td>\n",
       "      <td>7</td>\n",
       "      <td>2</td>\n",
       "      <td>8100000</td>\n",
       "      <td>Loyal moviegoers</td>\n",
       "    </tr>\n",
       "    <tr>\n",
       "      <th>...</th>\n",
       "      <td>...</td>\n",
       "      <td>...</td>\n",
       "      <td>...</td>\n",
       "      <td>...</td>\n",
       "      <td>...</td>\n",
       "      <td>...</td>\n",
       "      <td>...</td>\n",
       "      <td>...</td>\n",
       "      <td>...</td>\n",
       "      <td>...</td>\n",
       "      <td>...</td>\n",
       "    </tr>\n",
       "    <tr>\n",
       "      <th>4447</th>\n",
       "      <td>KH9855766</td>\n",
       "      <td>1970-01-01 09:41:25</td>\n",
       "      <td>Nữ</td>\n",
       "      <td>A, THUAN PHUOC,HAI CHAU, DA NANG</td>\n",
       "      <td>NaN</td>\n",
       "      <td>specialist</td>\n",
       "      <td>finance</td>\n",
       "      <td>1</td>\n",
       "      <td>3</td>\n",
       "      <td>9900000</td>\n",
       "      <td>Loyal moviegoers</td>\n",
       "    </tr>\n",
       "    <tr>\n",
       "      <th>4448</th>\n",
       "      <td>KH9958204</td>\n",
       "      <td>1970-01-01 10:14:52</td>\n",
       "      <td>Nữ</td>\n",
       "      <td>Phước Mỹ, ĐN</td>\n",
       "      <td>NaN</td>\n",
       "      <td>teenager</td>\n",
       "      <td>no industry</td>\n",
       "      <td>7</td>\n",
       "      <td>1</td>\n",
       "      <td>4050000</td>\n",
       "      <td>Recent customers</td>\n",
       "    </tr>\n",
       "    <tr>\n",
       "      <th>4449</th>\n",
       "      <td>WEBS00000043900</td>\n",
       "      <td>1970-01-01 08:58:31</td>\n",
       "      <td>Nữ</td>\n",
       "      <td>nguyen gian thanh</td>\n",
       "      <td>KHWEBS|00006890</td>\n",
       "      <td>specialist</td>\n",
       "      <td>construction</td>\n",
       "      <td>23</td>\n",
       "      <td>2</td>\n",
       "      <td>2970000</td>\n",
       "      <td>About to sleep</td>\n",
       "    </tr>\n",
       "    <tr>\n",
       "      <th>4450</th>\n",
       "      <td>WEBS00000044909</td>\n",
       "      <td>1970-01-01 09:48:36</td>\n",
       "      <td>Nữ</td>\n",
       "      <td>ngũ hành sơn</td>\n",
       "      <td>KHWEBS|00007899</td>\n",
       "      <td>blue collar</td>\n",
       "      <td>finance</td>\n",
       "      <td>2</td>\n",
       "      <td>1</td>\n",
       "      <td>21600000</td>\n",
       "      <td>Potential loyalist</td>\n",
       "    </tr>\n",
       "    <tr>\n",
       "      <th>4451</th>\n",
       "      <td>WEBS00000046015</td>\n",
       "      <td>1970-01-01 10:22:52</td>\n",
       "      <td>Nữ</td>\n",
       "      <td>Thanh Khê Tây - Thanh Khê</td>\n",
       "      <td>KHWEBS|00009005</td>\n",
       "      <td>teenager</td>\n",
       "      <td>no industry</td>\n",
       "      <td>24</td>\n",
       "      <td>1</td>\n",
       "      <td>5400000</td>\n",
       "      <td>About to be lost</td>\n",
       "    </tr>\n",
       "  </tbody>\n",
       "</table>\n",
       "<p>4452 rows × 11 columns</p>\n",
       "</div>"
      ],
      "text/plain": [
       "           customerid                 DOB gender  \\\n",
       "0          0000000014 1970-01-01 10:04:28     Nữ   \n",
       "1          0000000034 1970-01-01 09:58:21    Nam   \n",
       "2          0000000051 1970-01-01 09:31:59    Nam   \n",
       "3          0000000081 1970-01-01 10:07:52    Nam   \n",
       "4          0000000098 1970-01-01 09:36:48    Nam   \n",
       "...               ...                 ...    ...   \n",
       "4447        KH9855766 1970-01-01 09:41:25     Nữ   \n",
       "4448        KH9958204 1970-01-01 10:14:52     Nữ   \n",
       "4449  WEBS00000043900 1970-01-01 08:58:31     Nữ   \n",
       "4450  WEBS00000044909 1970-01-01 09:48:36     Nữ   \n",
       "4451  WEBS00000046015 1970-01-01 10:22:52     Nữ   \n",
       "\n",
       "                               address          Website          job  \\\n",
       "0               hoa khe quan thanh khe      KH0104|0345      student   \n",
       "1                             man thai      KH0104|0333      student   \n",
       "2                    que son quang nam      KH0104|0255  blue collar   \n",
       "3                         truong chinh      KH0104|0293      student   \n",
       "4                               cẩm lệ     KH0104|40580  blue collar   \n",
       "...                                ...              ...          ...   \n",
       "4447  A, THUAN PHUOC,HAI CHAU, DA NANG              NaN   specialist   \n",
       "4448                      Phước Mỹ, ĐN              NaN     teenager   \n",
       "4449                 nguyen gian thanh  KHWEBS|00006890   specialist   \n",
       "4450                      ngũ hành sơn  KHWEBS|00007899  blue collar   \n",
       "4451         Thanh Khê Tây - Thanh Khê  KHWEBS|00009005     teenager   \n",
       "\n",
       "            industry  Recency  Frequency  Monetary customer_segmentation  \n",
       "0           computer       26          1   5400000      About to be lost  \n",
       "1     health service        2          2   4500000             Promising  \n",
       "2          economics       10          1   2700000      Recent customers  \n",
       "3          economics       27          2  10800000               At risk  \n",
       "4     health service        7          2   8100000      Loyal moviegoers  \n",
       "...              ...      ...        ...       ...                   ...  \n",
       "4447         finance        1          3   9900000      Loyal moviegoers  \n",
       "4448     no industry        7          1   4050000      Recent customers  \n",
       "4449    construction       23          2   2970000        About to sleep  \n",
       "4450         finance        2          1  21600000    Potential loyalist  \n",
       "4451     no industry       24          1   5400000      About to be lost  \n",
       "\n",
       "[4452 rows x 11 columns]"
      ]
     },
     "execution_count": 26,
     "metadata": {},
     "output_type": "execute_result"
    }
   ],
   "source": [
    "customer_segment_df"
   ]
  },
  {
   "cell_type": "markdown",
   "metadata": {},
   "source": [
    "Dựa trên các chỉ số RFM mô hình sẽ được phân thành 8 nhóm khách hàng:\n",
    "1. Loyal moviegoers - Những người xem phim trung thành: những người đã đến rạp gần đây, thường xuyên ghé thăm và chi tiêu nhiều.\n",
    "2. At risk - Có nguy cơ: đây là những người xem phim thường xuyên đến rạp và chi tiêu rất nhiều nhưng gần đây chưa ghé thăm\n",
    "3. Potential loyalist - Người trung thành tiềm năng: những người xem phim này gần đây đã đến rạp và chi tiêu rất nhiều nhưng không thực sự đi thường xuyên\n",
    "4. Needing attention - Cần được chú ý: những người xem phim này chi tiêu rất nhiều mỗi lần họ đến rạp của bạn nhưng không làm điều đó thường xuyên và gần đây không đến xem\n",
    "5. Promising - Đầy hứa hẹn: những người xem phim này gần đây đã đến rạp chiếu phim và tham dự thường xuyên nhưng không chi tiêu nhiều khi họ đến rạp\n",
    "6. Recent customers - Khách hàng gần đây: những người xem phim này gần đây đã đến rạp nhưng không đến thường xuyên và không chi tiêu nhiều\n",
    "7. About to sleep: đây là những khán giả thường xuyên đến rạp nhưng gần đây không đến xem và không chi tiêu nhiều\n",
    "8. About to be lost: đây là những khán giả ít giá trị nhất, những người gần đây không đến rạp, không đến thường xuyên và cũng không chi tiêu nhiều"
   ]
  },
  {
   "cell_type": "code",
   "execution_count": 28,
   "metadata": {},
   "outputs": [],
   "source": [
    "with pd.ExcelWriter('DATA SET - VÒNG 1 CUỘC THI DATA GOT TALENT 2023 CLEAN VER5.xlsx', mode='a') as writer:\n",
    "    customer_segment_df.to_excel(writer, sheet_name='customer_with_rfm', index=False)"
   ]
  }
 ],
 "metadata": {
  "kernelspec": {
   "display_name": "base",
   "language": "python",
   "name": "python3"
  },
  "language_info": {
   "codemirror_mode": {
    "name": "ipython",
    "version": 3
   },
   "file_extension": ".py",
   "mimetype": "text/x-python",
   "name": "python",
   "nbconvert_exporter": "python",
   "pygments_lexer": "ipython3",
   "version": "3.11.5"
  }
 },
 "nbformat": 4,
 "nbformat_minor": 2
}
