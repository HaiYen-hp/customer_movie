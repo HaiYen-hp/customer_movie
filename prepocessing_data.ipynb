{
 "cells": [
  {
   "cell_type": "code",
   "execution_count": 1,
   "metadata": {},
   "outputs": [],
   "source": [
    "import pandas as pd\n",
    "from imdb import Cinemagoer, IMDbError\n",
    "# from difflib import SequenceMatcher\n",
    "# from googletrans import Translator\n",
    "from pprint import pprint\n",
    "from thefuzz import fuzz\n",
    "import re\n",
    "from themoviedb import TMDb, aioTMDb\n",
    "import asyncio\n",
    "import numpy as np"
   ]
  },
  {
   "cell_type": "markdown",
   "metadata": {},
   "source": [
    "## READ DATA"
   ]
  },
  {
   "cell_type": "code",
   "execution_count": 2,
   "metadata": {},
   "outputs": [],
   "source": [
    "customers = pd.read_excel('./DATA SET - VÒNG 1 CUỘC THI DATA GOT TALENT 2023.xlsx', sheet_name='customer')\n",
    "ticket = pd.read_excel('./DATA SET - VÒNG 1 CUỘC THI DATA GOT TALENT 2023.xlsx', sheet_name='ticket')\n",
    "film = pd.read_excel('./DATA SET - VÒNG 1 CUỘC THI DATA GOT TALENT 2023.xlsx', sheet_name='film')"
   ]
  },
  {
   "cell_type": "code",
   "execution_count": 3,
   "metadata": {},
   "outputs": [
    {
     "data": {
      "text/plain": [
       "(4479, 7)"
      ]
     },
     "execution_count": 3,
     "metadata": {},
     "output_type": "execute_result"
    }
   ],
   "source": [
    "customers.shape"
   ]
  },
  {
   "cell_type": "code",
   "execution_count": 4,
   "metadata": {},
   "outputs": [
    {
     "data": {
      "text/plain": [
       "(35474, 15)"
      ]
     },
     "execution_count": 4,
     "metadata": {},
     "output_type": "execute_result"
    }
   ],
   "source": [
    "ticket.shape"
   ]
  },
  {
   "cell_type": "code",
   "execution_count": 5,
   "metadata": {},
   "outputs": [
    {
     "data": {
      "text/plain": [
       "(60, 10)"
      ]
     },
     "execution_count": 5,
     "metadata": {},
     "output_type": "execute_result"
    }
   ],
   "source": [
    "film.shape"
   ]
  },
  {
   "cell_type": "code",
   "execution_count": 4,
   "metadata": {},
   "outputs": [
    {
     "data": {
      "text/html": [
       "<div>\n",
       "<style scoped>\n",
       "    .dataframe tbody tr th:only-of-type {\n",
       "        vertical-align: middle;\n",
       "    }\n",
       "\n",
       "    .dataframe tbody tr th {\n",
       "        vertical-align: top;\n",
       "    }\n",
       "\n",
       "    .dataframe thead th {\n",
       "        text-align: right;\n",
       "    }\n",
       "</style>\n",
       "<table border=\"1\" class=\"dataframe\">\n",
       "  <thead>\n",
       "    <tr style=\"text-align: right;\">\n",
       "      <th></th>\n",
       "      <th>customerid</th>\n",
       "      <th>DOB</th>\n",
       "      <th>gender</th>\n",
       "      <th>address</th>\n",
       "      <th>Website</th>\n",
       "      <th>job</th>\n",
       "      <th>industry</th>\n",
       "    </tr>\n",
       "  </thead>\n",
       "  <tbody>\n",
       "    <tr>\n",
       "      <th>0</th>\n",
       "      <td>0000000014</td>\n",
       "      <td>36268</td>\n",
       "      <td>Nữ</td>\n",
       "      <td>hoa khe quan thanh khe</td>\n",
       "      <td>KH0104|0345</td>\n",
       "      <td>student</td>\n",
       "      <td>computer</td>\n",
       "    </tr>\n",
       "    <tr>\n",
       "      <th>1</th>\n",
       "      <td>0000000034</td>\n",
       "      <td>35901</td>\n",
       "      <td>Nam</td>\n",
       "      <td>man thai</td>\n",
       "      <td>KH0104|0333</td>\n",
       "      <td>student</td>\n",
       "      <td>health service</td>\n",
       "    </tr>\n",
       "    <tr>\n",
       "      <th>2</th>\n",
       "      <td>0000000051</td>\n",
       "      <td>34319</td>\n",
       "      <td>Nam</td>\n",
       "      <td>que son quang nam</td>\n",
       "      <td>KH0104|0255</td>\n",
       "      <td>blue collar</td>\n",
       "      <td>economics</td>\n",
       "    </tr>\n",
       "    <tr>\n",
       "      <th>3</th>\n",
       "      <td>0000000081</td>\n",
       "      <td>36472</td>\n",
       "      <td>Nam</td>\n",
       "      <td>truong chinh</td>\n",
       "      <td>KH0104|0293</td>\n",
       "      <td>student</td>\n",
       "      <td>economics</td>\n",
       "    </tr>\n",
       "    <tr>\n",
       "      <th>4</th>\n",
       "      <td>0000000098</td>\n",
       "      <td>34608</td>\n",
       "      <td>Nam</td>\n",
       "      <td>cẩm lệ</td>\n",
       "      <td>KH0104|40580</td>\n",
       "      <td>blue collar</td>\n",
       "      <td>health service</td>\n",
       "    </tr>\n",
       "  </tbody>\n",
       "</table>\n",
       "</div>"
      ],
      "text/plain": [
       "   customerid    DOB gender                 address       Website  \\\n",
       "0  0000000014  36268     Nữ  hoa khe quan thanh khe   KH0104|0345   \n",
       "1  0000000034  35901    Nam                man thai   KH0104|0333   \n",
       "2  0000000051  34319    Nam       que son quang nam   KH0104|0255   \n",
       "3  0000000081  36472    Nam            truong chinh   KH0104|0293   \n",
       "4  0000000098  34608    Nam                  cẩm lệ  KH0104|40580   \n",
       "\n",
       "           job        industry  \n",
       "0      student        computer  \n",
       "1      student  health service  \n",
       "2  blue collar       economics  \n",
       "3      student       economics  \n",
       "4  blue collar  health service  "
      ]
     },
     "execution_count": 4,
     "metadata": {},
     "output_type": "execute_result"
    }
   ],
   "source": [
    "customers.head()"
   ]
  },
  {
   "cell_type": "markdown",
   "metadata": {},
   "source": [
    "## Checking and change type data"
   ]
  },
  {
   "cell_type": "code",
   "execution_count": 3,
   "metadata": {},
   "outputs": [],
   "source": [
    "customers['DOB']=pd.to_datetime(customers['DOB'], unit='s')"
   ]
  },
  {
   "cell_type": "code",
   "execution_count": 4,
   "metadata": {},
   "outputs": [
    {
     "data": {
      "text/html": [
       "<div>\n",
       "<style scoped>\n",
       "    .dataframe tbody tr th:only-of-type {\n",
       "        vertical-align: middle;\n",
       "    }\n",
       "\n",
       "    .dataframe tbody tr th {\n",
       "        vertical-align: top;\n",
       "    }\n",
       "\n",
       "    .dataframe thead th {\n",
       "        text-align: right;\n",
       "    }\n",
       "</style>\n",
       "<table border=\"1\" class=\"dataframe\">\n",
       "  <thead>\n",
       "    <tr style=\"text-align: right;\">\n",
       "      <th></th>\n",
       "      <th>customerid</th>\n",
       "      <th>DOB</th>\n",
       "      <th>gender</th>\n",
       "      <th>address</th>\n",
       "      <th>Website</th>\n",
       "      <th>job</th>\n",
       "      <th>industry</th>\n",
       "    </tr>\n",
       "  </thead>\n",
       "  <tbody>\n",
       "    <tr>\n",
       "      <th>0</th>\n",
       "      <td>0000000014</td>\n",
       "      <td>1970-01-01 10:04:28</td>\n",
       "      <td>Nữ</td>\n",
       "      <td>hoa khe quan thanh khe</td>\n",
       "      <td>KH0104|0345</td>\n",
       "      <td>student</td>\n",
       "      <td>computer</td>\n",
       "    </tr>\n",
       "    <tr>\n",
       "      <th>1</th>\n",
       "      <td>0000000034</td>\n",
       "      <td>1970-01-01 09:58:21</td>\n",
       "      <td>Nam</td>\n",
       "      <td>man thai</td>\n",
       "      <td>KH0104|0333</td>\n",
       "      <td>student</td>\n",
       "      <td>health service</td>\n",
       "    </tr>\n",
       "    <tr>\n",
       "      <th>2</th>\n",
       "      <td>0000000051</td>\n",
       "      <td>1970-01-01 09:31:59</td>\n",
       "      <td>Nam</td>\n",
       "      <td>que son quang nam</td>\n",
       "      <td>KH0104|0255</td>\n",
       "      <td>blue collar</td>\n",
       "      <td>economics</td>\n",
       "    </tr>\n",
       "    <tr>\n",
       "      <th>3</th>\n",
       "      <td>0000000081</td>\n",
       "      <td>1970-01-01 10:07:52</td>\n",
       "      <td>Nam</td>\n",
       "      <td>truong chinh</td>\n",
       "      <td>KH0104|0293</td>\n",
       "      <td>student</td>\n",
       "      <td>economics</td>\n",
       "    </tr>\n",
       "    <tr>\n",
       "      <th>4</th>\n",
       "      <td>0000000098</td>\n",
       "      <td>1970-01-01 09:36:48</td>\n",
       "      <td>Nam</td>\n",
       "      <td>cẩm lệ</td>\n",
       "      <td>KH0104|40580</td>\n",
       "      <td>blue collar</td>\n",
       "      <td>health service</td>\n",
       "    </tr>\n",
       "    <tr>\n",
       "      <th>...</th>\n",
       "      <td>...</td>\n",
       "      <td>...</td>\n",
       "      <td>...</td>\n",
       "      <td>...</td>\n",
       "      <td>...</td>\n",
       "      <td>...</td>\n",
       "      <td>...</td>\n",
       "    </tr>\n",
       "    <tr>\n",
       "      <th>4474</th>\n",
       "      <td>KH9855766</td>\n",
       "      <td>1970-01-01 09:41:25</td>\n",
       "      <td>Nữ</td>\n",
       "      <td>A, THUAN PHUOC,HAI CHAU, DA NANG</td>\n",
       "      <td>NaN</td>\n",
       "      <td>specialist</td>\n",
       "      <td>finance</td>\n",
       "    </tr>\n",
       "    <tr>\n",
       "      <th>4475</th>\n",
       "      <td>KH9958204</td>\n",
       "      <td>1970-01-01 10:14:52</td>\n",
       "      <td>Nữ</td>\n",
       "      <td>Phước Mỹ, ĐN</td>\n",
       "      <td>NaN</td>\n",
       "      <td>teenager</td>\n",
       "      <td>NaN</td>\n",
       "    </tr>\n",
       "    <tr>\n",
       "      <th>4476</th>\n",
       "      <td>WEBS00000043900</td>\n",
       "      <td>1970-01-01 08:58:31</td>\n",
       "      <td>Nữ</td>\n",
       "      <td>nguyen gian thanh</td>\n",
       "      <td>KHWEBS|00006890</td>\n",
       "      <td>specialist</td>\n",
       "      <td>construction</td>\n",
       "    </tr>\n",
       "    <tr>\n",
       "      <th>4477</th>\n",
       "      <td>WEBS00000044909</td>\n",
       "      <td>1970-01-01 09:48:36</td>\n",
       "      <td>Nữ</td>\n",
       "      <td>ngũ hành sơn</td>\n",
       "      <td>KHWEBS|00007899</td>\n",
       "      <td>blue collar</td>\n",
       "      <td>finance</td>\n",
       "    </tr>\n",
       "    <tr>\n",
       "      <th>4478</th>\n",
       "      <td>WEBS00000046015</td>\n",
       "      <td>1970-01-01 10:22:52</td>\n",
       "      <td>Nữ</td>\n",
       "      <td>Thanh Khê Tây - Thanh Khê</td>\n",
       "      <td>KHWEBS|00009005</td>\n",
       "      <td>teenager</td>\n",
       "      <td>NaN</td>\n",
       "    </tr>\n",
       "  </tbody>\n",
       "</table>\n",
       "<p>4479 rows × 7 columns</p>\n",
       "</div>"
      ],
      "text/plain": [
       "           customerid                 DOB gender  \\\n",
       "0          0000000014 1970-01-01 10:04:28     Nữ   \n",
       "1          0000000034 1970-01-01 09:58:21    Nam   \n",
       "2          0000000051 1970-01-01 09:31:59    Nam   \n",
       "3          0000000081 1970-01-01 10:07:52    Nam   \n",
       "4          0000000098 1970-01-01 09:36:48    Nam   \n",
       "...               ...                 ...    ...   \n",
       "4474        KH9855766 1970-01-01 09:41:25     Nữ   \n",
       "4475        KH9958204 1970-01-01 10:14:52     Nữ   \n",
       "4476  WEBS00000043900 1970-01-01 08:58:31     Nữ   \n",
       "4477  WEBS00000044909 1970-01-01 09:48:36     Nữ   \n",
       "4478  WEBS00000046015 1970-01-01 10:22:52     Nữ   \n",
       "\n",
       "                               address          Website          job  \\\n",
       "0               hoa khe quan thanh khe      KH0104|0345      student   \n",
       "1                             man thai      KH0104|0333      student   \n",
       "2                    que son quang nam      KH0104|0255  blue collar   \n",
       "3                         truong chinh      KH0104|0293      student   \n",
       "4                               cẩm lệ     KH0104|40580  blue collar   \n",
       "...                                ...              ...          ...   \n",
       "4474  A, THUAN PHUOC,HAI CHAU, DA NANG              NaN   specialist   \n",
       "4475                      Phước Mỹ, ĐN              NaN     teenager   \n",
       "4476                 nguyen gian thanh  KHWEBS|00006890   specialist   \n",
       "4477                      ngũ hành sơn  KHWEBS|00007899  blue collar   \n",
       "4478         Thanh Khê Tây - Thanh Khê  KHWEBS|00009005     teenager   \n",
       "\n",
       "            industry  \n",
       "0           computer  \n",
       "1     health service  \n",
       "2          economics  \n",
       "3          economics  \n",
       "4     health service  \n",
       "...              ...  \n",
       "4474         finance  \n",
       "4475             NaN  \n",
       "4476    construction  \n",
       "4477         finance  \n",
       "4478             NaN  \n",
       "\n",
       "[4479 rows x 7 columns]"
      ]
     },
     "execution_count": 4,
     "metadata": {},
     "output_type": "execute_result"
    }
   ],
   "source": [
    "customers"
   ]
  },
  {
   "cell_type": "markdown",
   "metadata": {},
   "source": [
    "## DEALING WITH NULL DATA AND DUPLICATES DATA"
   ]
  },
  {
   "cell_type": "markdown",
   "metadata": {},
   "source": [
    "### Customers table"
   ]
  },
  {
   "cell_type": "code",
   "execution_count": 5,
   "metadata": {},
   "outputs": [
    {
     "data": {
      "text/plain": [
       "customerid       0\n",
       "DOB              0\n",
       "gender           0\n",
       "address          1\n",
       "Website        536\n",
       "job              0\n",
       "industry      1122\n",
       "dtype: int64"
      ]
     },
     "execution_count": 5,
     "metadata": {},
     "output_type": "execute_result"
    }
   ],
   "source": [
    "customers.isnull().sum()"
   ]
  },
  {
   "cell_type": "markdown",
   "metadata": {},
   "source": [
    "Với cột dữ liệu Job có giá trị là teenager thì trường industry sẽ null -> lý do là bố mẹ hoặc người thân dẫn theo trẻ nhỏ đi xem phim. Hoặc là trẻ em đang ở tuổi vị thành niên tự đi xem.\n",
    "Có thể fill null bằng \"no industry\" \n"
   ]
  },
  {
   "cell_type": "code",
   "execution_count": 6,
   "metadata": {},
   "outputs": [
    {
     "data": {
      "text/plain": [
       "1122"
      ]
     },
     "execution_count": 6,
     "metadata": {},
     "output_type": "execute_result"
    }
   ],
   "source": [
    "customers.loc[customers['job']=='teenager'].industry.isnull().sum()"
   ]
  },
  {
   "cell_type": "code",
   "execution_count": 7,
   "metadata": {},
   "outputs": [],
   "source": [
    "customers['industry'].fillna('no industry', inplace=True)"
   ]
  },
  {
   "cell_type": "code",
   "execution_count": 8,
   "metadata": {},
   "outputs": [
    {
     "data": {
      "text/plain": [
       "customerid      0\n",
       "DOB             0\n",
       "gender          0\n",
       "address         1\n",
       "Website       536\n",
       "job             0\n",
       "industry        0\n",
       "dtype: int64"
      ]
     },
     "execution_count": 8,
     "metadata": {},
     "output_type": "execute_result"
    }
   ],
   "source": [
    "customers.isnull().sum()"
   ]
  },
  {
   "cell_type": "markdown",
   "metadata": {},
   "source": [
    "Với 1 bản ghi bị thiếu giá trị bị thiếu thông tin address có thể do hệ thống hoặc nhân viên điền thiếu thống tin khách hàng, thường sẽ loại bỏ nếu số lượng missing ít, nhưng do ảnh hưởng của customer lên các bảng dữ liệu khác nên chúng em sẽ không remove bản ghi này đi, mà thay thế bằng giá trị có tần suất nhiều nhất trong cột address"
   ]
  },
  {
   "cell_type": "code",
   "execution_count": 9,
   "metadata": {},
   "outputs": [
    {
     "data": {
      "text/html": [
       "<div>\n",
       "<style scoped>\n",
       "    .dataframe tbody tr th:only-of-type {\n",
       "        vertical-align: middle;\n",
       "    }\n",
       "\n",
       "    .dataframe tbody tr th {\n",
       "        vertical-align: top;\n",
       "    }\n",
       "\n",
       "    .dataframe thead th {\n",
       "        text-align: right;\n",
       "    }\n",
       "</style>\n",
       "<table border=\"1\" class=\"dataframe\">\n",
       "  <thead>\n",
       "    <tr style=\"text-align: right;\">\n",
       "      <th></th>\n",
       "      <th>customerid</th>\n",
       "      <th>DOB</th>\n",
       "      <th>gender</th>\n",
       "      <th>address</th>\n",
       "      <th>Website</th>\n",
       "      <th>job</th>\n",
       "      <th>industry</th>\n",
       "    </tr>\n",
       "  </thead>\n",
       "  <tbody>\n",
       "    <tr>\n",
       "      <th>2562</th>\n",
       "      <td>0001135922</td>\n",
       "      <td>1970-01-01 09:42:28</td>\n",
       "      <td>Nam</td>\n",
       "      <td>NaN</td>\n",
       "      <td>KH0104|50184</td>\n",
       "      <td>white collar</td>\n",
       "      <td>education</td>\n",
       "    </tr>\n",
       "  </tbody>\n",
       "</table>\n",
       "</div>"
      ],
      "text/plain": [
       "      customerid                 DOB gender address       Website  \\\n",
       "2562  0001135922 1970-01-01 09:42:28    Nam     NaN  KH0104|50184   \n",
       "\n",
       "               job   industry  \n",
       "2562  white collar  education  "
      ]
     },
     "execution_count": 9,
     "metadata": {},
     "output_type": "execute_result"
    }
   ],
   "source": [
    "customers.loc[customers['address'].isnull()]"
   ]
  },
  {
   "cell_type": "code",
   "execution_count": 10,
   "metadata": {},
   "outputs": [
    {
     "data": {
      "text/plain": [
       "customerid      0\n",
       "DOB             0\n",
       "gender          0\n",
       "address         0\n",
       "Website       536\n",
       "job             0\n",
       "industry        0\n",
       "dtype: int64"
      ]
     },
     "execution_count": 10,
     "metadata": {},
     "output_type": "execute_result"
    }
   ],
   "source": [
    "mode_value = customers['address'].mode()[0]\n",
    "# customers['address'].fillna('data missing', inplace=True)\n",
    "customers['address'].fillna(mode_value, inplace=True)\n",
    "customers.isnull().sum()"
   ]
  },
  {
   "cell_type": "code",
   "execution_count": 11,
   "metadata": {},
   "outputs": [
    {
     "data": {
      "text/plain": [
       "0     KH0104|0345\n",
       "1     KH0104|0333\n",
       "2     KH0104|0255\n",
       "3     KH0104|0293\n",
       "4    KH0104|40580\n",
       "Name: Website, dtype: object"
      ]
     },
     "execution_count": 11,
     "metadata": {},
     "output_type": "execute_result"
    }
   ],
   "source": [
    "customers['Website'].head()"
   ]
  },
  {
   "cell_type": "code",
   "execution_count": 12,
   "metadata": {},
   "outputs": [
    {
     "data": {
      "text/html": [
       "<div>\n",
       "<style scoped>\n",
       "    .dataframe tbody tr th:only-of-type {\n",
       "        vertical-align: middle;\n",
       "    }\n",
       "\n",
       "    .dataframe tbody tr th {\n",
       "        vertical-align: top;\n",
       "    }\n",
       "\n",
       "    .dataframe thead th {\n",
       "        text-align: right;\n",
       "    }\n",
       "</style>\n",
       "<table border=\"1\" class=\"dataframe\">\n",
       "  <thead>\n",
       "    <tr style=\"text-align: right;\">\n",
       "      <th></th>\n",
       "      <th>customerid</th>\n",
       "      <th>DOB</th>\n",
       "      <th>gender</th>\n",
       "      <th>address</th>\n",
       "      <th>Website</th>\n",
       "      <th>job</th>\n",
       "      <th>industry</th>\n",
       "    </tr>\n",
       "  </thead>\n",
       "  <tbody>\n",
       "    <tr>\n",
       "      <th>7</th>\n",
       "      <td>0000000228</td>\n",
       "      <td>1970-01-01 09:43:32</td>\n",
       "      <td>Nam</td>\n",
       "      <td>Ngũ Hành Sơn, ĐN</td>\n",
       "      <td>NaN</td>\n",
       "      <td>specialist</td>\n",
       "      <td>health service</td>\n",
       "    </tr>\n",
       "    <tr>\n",
       "      <th>14</th>\n",
       "      <td>0000000328</td>\n",
       "      <td>1970-01-01 09:33:41</td>\n",
       "      <td>Nam</td>\n",
       "      <td>Le Tan Trung</td>\n",
       "      <td>NaN</td>\n",
       "      <td>blue collar</td>\n",
       "      <td>economics</td>\n",
       "    </tr>\n",
       "    <tr>\n",
       "      <th>33</th>\n",
       "      <td>0000000777</td>\n",
       "      <td>1970-01-01 09:37:55</td>\n",
       "      <td>Nữ</td>\n",
       "      <td>THANH KHÊ</td>\n",
       "      <td>NaN</td>\n",
       "      <td>specialist</td>\n",
       "      <td>economics</td>\n",
       "    </tr>\n",
       "    <tr>\n",
       "      <th>49</th>\n",
       "      <td>0000003225</td>\n",
       "      <td>1970-01-01 09:20:04</td>\n",
       "      <td>Nam</td>\n",
       "      <td>ngũ hành sơn</td>\n",
       "      <td>NaN</td>\n",
       "      <td>blue collar</td>\n",
       "      <td>social service</td>\n",
       "    </tr>\n",
       "    <tr>\n",
       "      <th>57</th>\n",
       "      <td>0000003363</td>\n",
       "      <td>1970-01-01 09:52:10</td>\n",
       "      <td>Nam</td>\n",
       "      <td>ĐỐNG ĐA</td>\n",
       "      <td>NaN</td>\n",
       "      <td>student</td>\n",
       "      <td>government agent</td>\n",
       "    </tr>\n",
       "    <tr>\n",
       "      <th>...</th>\n",
       "      <td>...</td>\n",
       "      <td>...</td>\n",
       "      <td>...</td>\n",
       "      <td>...</td>\n",
       "      <td>...</td>\n",
       "      <td>...</td>\n",
       "      <td>...</td>\n",
       "    </tr>\n",
       "    <tr>\n",
       "      <th>4471</th>\n",
       "      <td>KH9830912</td>\n",
       "      <td>1970-01-01 10:09:52</td>\n",
       "      <td>Nữ</td>\n",
       "      <td>ĐIỆN BÀN, QUẢNG NAM</td>\n",
       "      <td>NaN</td>\n",
       "      <td>teenager</td>\n",
       "      <td>no industry</td>\n",
       "    </tr>\n",
       "    <tr>\n",
       "      <th>4472</th>\n",
       "      <td>KH9834570</td>\n",
       "      <td>1970-01-01 09:50:41</td>\n",
       "      <td>Nam</td>\n",
       "      <td>Ngu Hanh Son, Da Nang</td>\n",
       "      <td>NaN</td>\n",
       "      <td>student</td>\n",
       "      <td>social service</td>\n",
       "    </tr>\n",
       "    <tr>\n",
       "      <th>4473</th>\n",
       "      <td>KH984255</td>\n",
       "      <td>1970-01-01 10:10:50</td>\n",
       "      <td>Nam</td>\n",
       "      <td>Hai Chau, Da Nang</td>\n",
       "      <td>NaN</td>\n",
       "      <td>teenager</td>\n",
       "      <td>no industry</td>\n",
       "    </tr>\n",
       "    <tr>\n",
       "      <th>4474</th>\n",
       "      <td>KH9855766</td>\n",
       "      <td>1970-01-01 09:41:25</td>\n",
       "      <td>Nữ</td>\n",
       "      <td>A, THUAN PHUOC,HAI CHAU, DA NANG</td>\n",
       "      <td>NaN</td>\n",
       "      <td>specialist</td>\n",
       "      <td>finance</td>\n",
       "    </tr>\n",
       "    <tr>\n",
       "      <th>4475</th>\n",
       "      <td>KH9958204</td>\n",
       "      <td>1970-01-01 10:14:52</td>\n",
       "      <td>Nữ</td>\n",
       "      <td>Phước Mỹ, ĐN</td>\n",
       "      <td>NaN</td>\n",
       "      <td>teenager</td>\n",
       "      <td>no industry</td>\n",
       "    </tr>\n",
       "  </tbody>\n",
       "</table>\n",
       "<p>536 rows × 7 columns</p>\n",
       "</div>"
      ],
      "text/plain": [
       "      customerid                 DOB gender                           address  \\\n",
       "7     0000000228 1970-01-01 09:43:32    Nam                  Ngũ Hành Sơn, ĐN   \n",
       "14    0000000328 1970-01-01 09:33:41    Nam                      Le Tan Trung   \n",
       "33    0000000777 1970-01-01 09:37:55     Nữ                         THANH KHÊ   \n",
       "49    0000003225 1970-01-01 09:20:04    Nam                      ngũ hành sơn   \n",
       "57    0000003363 1970-01-01 09:52:10    Nam                           ĐỐNG ĐA   \n",
       "...          ...                 ...    ...                               ...   \n",
       "4471   KH9830912 1970-01-01 10:09:52     Nữ               ĐIỆN BÀN, QUẢNG NAM   \n",
       "4472   KH9834570 1970-01-01 09:50:41    Nam             Ngu Hanh Son, Da Nang   \n",
       "4473    KH984255 1970-01-01 10:10:50    Nam                 Hai Chau, Da Nang   \n",
       "4474   KH9855766 1970-01-01 09:41:25     Nữ  A, THUAN PHUOC,HAI CHAU, DA NANG   \n",
       "4475   KH9958204 1970-01-01 10:14:52     Nữ                      Phước Mỹ, ĐN   \n",
       "\n",
       "     Website          job          industry  \n",
       "7        NaN   specialist    health service  \n",
       "14       NaN  blue collar         economics  \n",
       "33       NaN   specialist         economics  \n",
       "49       NaN  blue collar    social service  \n",
       "57       NaN      student  government agent  \n",
       "...      ...          ...               ...  \n",
       "4471     NaN     teenager       no industry  \n",
       "4472     NaN      student    social service  \n",
       "4473     NaN     teenager       no industry  \n",
       "4474     NaN   specialist           finance  \n",
       "4475     NaN     teenager       no industry  \n",
       "\n",
       "[536 rows x 7 columns]"
      ]
     },
     "execution_count": 12,
     "metadata": {},
     "output_type": "execute_result"
    }
   ],
   "source": [
    "customers.loc[customers['Website'].isnull()]"
   ]
  },
  {
   "cell_type": "code",
   "execution_count": 13,
   "metadata": {},
   "outputs": [
    {
     "name": "stdout",
     "output_type": "stream",
     "text": [
      "Bf drop duplicate records in Customer sheet: (4479, 7)\n"
     ]
    },
    {
     "data": {
      "text/plain": [
       "(4479, 7)"
      ]
     },
     "execution_count": 13,
     "metadata": {},
     "output_type": "execute_result"
    }
   ],
   "source": [
    "print(f'Bf drop duplicate records in Customer sheet: {customers.shape}')\n",
    "customers.drop_duplicates().shape"
   ]
  },
  {
   "cell_type": "markdown",
   "metadata": {},
   "source": [
    "### Ticket table"
   ]
  },
  {
   "cell_type": "markdown",
   "metadata": {},
   "source": [
    "Với cột dữ liệu cashier có giá trị là 'Website' đều bị null ở các cột orderid, saledate, orderid, total, popcorn"
   ]
  },
  {
   "cell_type": "code",
   "execution_count": 16,
   "metadata": {},
   "outputs": [
    {
     "data": {
      "text/plain": [
       "orderid         96\n",
       "cashier          0\n",
       "saledate        96\n",
       "total           96\n",
       "customerid       0\n",
       "ticketcode       0\n",
       "date             0\n",
       "time             0\n",
       "slot             0\n",
       "room             0\n",
       "film             0\n",
       "slot type        0\n",
       "ticket type      0\n",
       "ticket price     0\n",
       "popcorn         96\n",
       "dtype: int64"
      ]
     },
     "execution_count": 16,
     "metadata": {},
     "output_type": "execute_result"
    }
   ],
   "source": [
    "ticket.isnull().sum()"
   ]
  },
  {
   "cell_type": "code",
   "execution_count": 14,
   "metadata": {},
   "outputs": [
    {
     "data": {
      "text/html": [
       "<div>\n",
       "<style scoped>\n",
       "    .dataframe tbody tr th:only-of-type {\n",
       "        vertical-align: middle;\n",
       "    }\n",
       "\n",
       "    .dataframe tbody tr th {\n",
       "        vertical-align: top;\n",
       "    }\n",
       "\n",
       "    .dataframe thead th {\n",
       "        text-align: right;\n",
       "    }\n",
       "</style>\n",
       "<table border=\"1\" class=\"dataframe\">\n",
       "  <thead>\n",
       "    <tr style=\"text-align: right;\">\n",
       "      <th></th>\n",
       "      <th>orderid</th>\n",
       "      <th>cashier</th>\n",
       "      <th>saledate</th>\n",
       "      <th>total</th>\n",
       "      <th>customerid</th>\n",
       "      <th>ticketcode</th>\n",
       "      <th>date</th>\n",
       "      <th>time</th>\n",
       "      <th>slot</th>\n",
       "      <th>room</th>\n",
       "      <th>film</th>\n",
       "      <th>slot type</th>\n",
       "      <th>ticket type</th>\n",
       "      <th>ticket price</th>\n",
       "      <th>popcorn</th>\n",
       "    </tr>\n",
       "  </thead>\n",
       "  <tbody>\n",
       "    <tr>\n",
       "      <th>23</th>\n",
       "      <td>NaN</td>\n",
       "      <td>Website</td>\n",
       "      <td>NaT</td>\n",
       "      <td>NaN</td>\n",
       "      <td>0000000228</td>\n",
       "      <td>20100926</td>\n",
       "      <td>2019-05-25</td>\n",
       "      <td>19:45:00</td>\n",
       "      <td>G09</td>\n",
       "      <td>3</td>\n",
       "      <td>ALADDIN (PD) (G)</td>\n",
       "      <td>ĐƠN</td>\n",
       "      <td>Thành viên</td>\n",
       "      <td>45000</td>\n",
       "      <td>NaN</td>\n",
       "    </tr>\n",
       "    <tr>\n",
       "      <th>24</th>\n",
       "      <td>NaN</td>\n",
       "      <td>Website</td>\n",
       "      <td>NaT</td>\n",
       "      <td>NaN</td>\n",
       "      <td>0000000228</td>\n",
       "      <td>20100927</td>\n",
       "      <td>2019-05-25</td>\n",
       "      <td>19:45:00</td>\n",
       "      <td>G10</td>\n",
       "      <td>3</td>\n",
       "      <td>ALADDIN (PD) (G)</td>\n",
       "      <td>ĐƠN</td>\n",
       "      <td>Thành viên</td>\n",
       "      <td>45000</td>\n",
       "      <td>NaN</td>\n",
       "    </tr>\n",
       "    <tr>\n",
       "      <th>580</th>\n",
       "      <td>NaN</td>\n",
       "      <td>Website</td>\n",
       "      <td>NaT</td>\n",
       "      <td>NaN</td>\n",
       "      <td>0000011318</td>\n",
       "      <td>20092413</td>\n",
       "      <td>2019-05-18</td>\n",
       "      <td>18:40:00</td>\n",
       "      <td>G09</td>\n",
       "      <td>1</td>\n",
       "      <td>POKÉMON: THÁM TỬ PIKACHU (C13)</td>\n",
       "      <td>ĐƠN</td>\n",
       "      <td>Thành viên</td>\n",
       "      <td>45000</td>\n",
       "      <td>NaN</td>\n",
       "    </tr>\n",
       "    <tr>\n",
       "      <th>581</th>\n",
       "      <td>NaN</td>\n",
       "      <td>Website</td>\n",
       "      <td>NaT</td>\n",
       "      <td>NaN</td>\n",
       "      <td>0000011318</td>\n",
       "      <td>20092412</td>\n",
       "      <td>2019-05-18</td>\n",
       "      <td>18:40:00</td>\n",
       "      <td>G08</td>\n",
       "      <td>1</td>\n",
       "      <td>POKÉMON: THÁM TỬ PIKACHU (C13)</td>\n",
       "      <td>ĐƠN</td>\n",
       "      <td>Thành viên</td>\n",
       "      <td>45000</td>\n",
       "      <td>NaN</td>\n",
       "    </tr>\n",
       "    <tr>\n",
       "      <th>582</th>\n",
       "      <td>NaN</td>\n",
       "      <td>Website</td>\n",
       "      <td>NaT</td>\n",
       "      <td>NaN</td>\n",
       "      <td>0000011318</td>\n",
       "      <td>20092411</td>\n",
       "      <td>2019-05-18</td>\n",
       "      <td>18:40:00</td>\n",
       "      <td>G07</td>\n",
       "      <td>1</td>\n",
       "      <td>POKÉMON: THÁM TỬ PIKACHU (C13)</td>\n",
       "      <td>ĐƠN</td>\n",
       "      <td>Thành viên</td>\n",
       "      <td>45000</td>\n",
       "      <td>NaN</td>\n",
       "    </tr>\n",
       "    <tr>\n",
       "      <th>...</th>\n",
       "      <td>...</td>\n",
       "      <td>...</td>\n",
       "      <td>...</td>\n",
       "      <td>...</td>\n",
       "      <td>...</td>\n",
       "      <td>...</td>\n",
       "      <td>...</td>\n",
       "      <td>...</td>\n",
       "      <td>...</td>\n",
       "      <td>...</td>\n",
       "      <td>...</td>\n",
       "      <td>...</td>\n",
       "      <td>...</td>\n",
       "      <td>...</td>\n",
       "      <td>...</td>\n",
       "    </tr>\n",
       "    <tr>\n",
       "      <th>23102</th>\n",
       "      <td>NaN</td>\n",
       "      <td>Website</td>\n",
       "      <td>NaT</td>\n",
       "      <td>NaN</td>\n",
       "      <td>0003008617</td>\n",
       "      <td>20106999</td>\n",
       "      <td>2019-05-30</td>\n",
       "      <td>21:35:00</td>\n",
       "      <td>H09</td>\n",
       "      <td>4</td>\n",
       "      <td>CHÚA TỂ GODZILLA: ĐẾ VƯƠNG BẤT TỬ (C13)</td>\n",
       "      <td>ĐƠN</td>\n",
       "      <td>Thành viên</td>\n",
       "      <td>45000</td>\n",
       "      <td>NaN</td>\n",
       "    </tr>\n",
       "    <tr>\n",
       "      <th>23103</th>\n",
       "      <td>NaN</td>\n",
       "      <td>Website</td>\n",
       "      <td>NaT</td>\n",
       "      <td>NaN</td>\n",
       "      <td>0003008617</td>\n",
       "      <td>20106998</td>\n",
       "      <td>2019-05-30</td>\n",
       "      <td>21:35:00</td>\n",
       "      <td>H08</td>\n",
       "      <td>4</td>\n",
       "      <td>CHÚA TỂ GODZILLA: ĐẾ VƯƠNG BẤT TỬ (C13)</td>\n",
       "      <td>ĐƠN</td>\n",
       "      <td>Thành viên</td>\n",
       "      <td>45000</td>\n",
       "      <td>NaN</td>\n",
       "    </tr>\n",
       "    <tr>\n",
       "      <th>23106</th>\n",
       "      <td>NaN</td>\n",
       "      <td>Website</td>\n",
       "      <td>NaT</td>\n",
       "      <td>NaN</td>\n",
       "      <td>0003008617</td>\n",
       "      <td>20091106</td>\n",
       "      <td>2019-05-17</td>\n",
       "      <td>20:15:00</td>\n",
       "      <td>F14</td>\n",
       "      <td>2</td>\n",
       "      <td>JOHN WICK 3: CHUẨN BỊ CHIẾN TRANH (C18)</td>\n",
       "      <td>ĐƠN</td>\n",
       "      <td>Thành viên</td>\n",
       "      <td>45000</td>\n",
       "      <td>NaN</td>\n",
       "    </tr>\n",
       "    <tr>\n",
       "      <th>23107</th>\n",
       "      <td>NaN</td>\n",
       "      <td>Website</td>\n",
       "      <td>NaT</td>\n",
       "      <td>NaN</td>\n",
       "      <td>0003008617</td>\n",
       "      <td>20091105</td>\n",
       "      <td>2019-05-17</td>\n",
       "      <td>20:15:00</td>\n",
       "      <td>F13</td>\n",
       "      <td>2</td>\n",
       "      <td>JOHN WICK 3: CHUẨN BỊ CHIẾN TRANH (C18)</td>\n",
       "      <td>ĐƠN</td>\n",
       "      <td>Thành viên</td>\n",
       "      <td>45000</td>\n",
       "      <td>NaN</td>\n",
       "    </tr>\n",
       "    <tr>\n",
       "      <th>23108</th>\n",
       "      <td>NaN</td>\n",
       "      <td>Website</td>\n",
       "      <td>NaT</td>\n",
       "      <td>NaN</td>\n",
       "      <td>0003008617</td>\n",
       "      <td>20091107</td>\n",
       "      <td>2019-05-17</td>\n",
       "      <td>20:15:00</td>\n",
       "      <td>F15</td>\n",
       "      <td>2</td>\n",
       "      <td>JOHN WICK 3: CHUẨN BỊ CHIẾN TRANH (C18)</td>\n",
       "      <td>ĐƠN</td>\n",
       "      <td>Thành viên</td>\n",
       "      <td>45000</td>\n",
       "      <td>NaN</td>\n",
       "    </tr>\n",
       "  </tbody>\n",
       "</table>\n",
       "<p>96 rows × 15 columns</p>\n",
       "</div>"
      ],
      "text/plain": [
       "      orderid  cashier saledate  total  customerid  ticketcode       date  \\\n",
       "23        NaN  Website      NaT    NaN  0000000228    20100926 2019-05-25   \n",
       "24        NaN  Website      NaT    NaN  0000000228    20100927 2019-05-25   \n",
       "580       NaN  Website      NaT    NaN  0000011318    20092413 2019-05-18   \n",
       "581       NaN  Website      NaT    NaN  0000011318    20092412 2019-05-18   \n",
       "582       NaN  Website      NaT    NaN  0000011318    20092411 2019-05-18   \n",
       "...       ...      ...      ...    ...         ...         ...        ...   \n",
       "23102     NaN  Website      NaT    NaN  0003008617    20106999 2019-05-30   \n",
       "23103     NaN  Website      NaT    NaN  0003008617    20106998 2019-05-30   \n",
       "23106     NaN  Website      NaT    NaN  0003008617    20091106 2019-05-17   \n",
       "23107     NaN  Website      NaT    NaN  0003008617    20091105 2019-05-17   \n",
       "23108     NaN  Website      NaT    NaN  0003008617    20091107 2019-05-17   \n",
       "\n",
       "           time slot  room                                     film slot type  \\\n",
       "23     19:45:00  G09     3                         ALADDIN (PD) (G)       ĐƠN   \n",
       "24     19:45:00  G10     3                         ALADDIN (PD) (G)       ĐƠN   \n",
       "580    18:40:00  G09     1           POKÉMON: THÁM TỬ PIKACHU (C13)       ĐƠN   \n",
       "581    18:40:00  G08     1           POKÉMON: THÁM TỬ PIKACHU (C13)       ĐƠN   \n",
       "582    18:40:00  G07     1           POKÉMON: THÁM TỬ PIKACHU (C13)       ĐƠN   \n",
       "...         ...  ...   ...                                      ...       ...   \n",
       "23102  21:35:00  H09     4  CHÚA TỂ GODZILLA: ĐẾ VƯƠNG BẤT TỬ (C13)       ĐƠN   \n",
       "23103  21:35:00  H08     4  CHÚA TỂ GODZILLA: ĐẾ VƯƠNG BẤT TỬ (C13)       ĐƠN   \n",
       "23106  20:15:00  F14     2  JOHN WICK 3: CHUẨN BỊ CHIẾN TRANH (C18)       ĐƠN   \n",
       "23107  20:15:00  F13     2  JOHN WICK 3: CHUẨN BỊ CHIẾN TRANH (C18)       ĐƠN   \n",
       "23108  20:15:00  F15     2  JOHN WICK 3: CHUẨN BỊ CHIẾN TRANH (C18)       ĐƠN   \n",
       "\n",
       "      ticket type  ticket price popcorn  \n",
       "23     Thành viên         45000     NaN  \n",
       "24     Thành viên         45000     NaN  \n",
       "580    Thành viên         45000     NaN  \n",
       "581    Thành viên         45000     NaN  \n",
       "582    Thành viên         45000     NaN  \n",
       "...           ...           ...     ...  \n",
       "23102  Thành viên         45000     NaN  \n",
       "23103  Thành viên         45000     NaN  \n",
       "23106  Thành viên         45000     NaN  \n",
       "23107  Thành viên         45000     NaN  \n",
       "23108  Thành viên         45000     NaN  \n",
       "\n",
       "[96 rows x 15 columns]"
      ]
     },
     "execution_count": 14,
     "metadata": {},
     "output_type": "execute_result"
    }
   ],
   "source": [
    "ticket.loc[ticket['cashier']=='Website']"
   ]
  },
  {
   "cell_type": "markdown",
   "metadata": {},
   "source": [
    "- Có thể là do website này ko có thông tin về các trường orderid và saledate, và chỉ tính đơn hàng theo từng vé nên tổng total đều null. Tiếp theo là vì mua online nên là phần popcorn không được tính kèm vào đơn hàng.\n",
    "    + Với cách xử lý là với trường total để bằng trường ticket price.\n",
    "    + Với cột popcorn fill null là Không\n",
    "    + Còn orderid với saledate không có vẫn dữ nguyên như cũ"
   ]
  },
  {
   "cell_type": "code",
   "execution_count": 15,
   "metadata": {},
   "outputs": [],
   "source": [
    "ticket['total'].fillna(ticket['ticket price'], inplace=True)\n",
    "ticket['popcorn'].fillna('Không', inplace=True)"
   ]
  },
  {
   "cell_type": "code",
   "execution_count": 19,
   "metadata": {},
   "outputs": [
    {
     "data": {
      "text/plain": [
       "orderid         96\n",
       "cashier          0\n",
       "saledate        96\n",
       "total            0\n",
       "customerid       0\n",
       "ticketcode       0\n",
       "date             0\n",
       "time             0\n",
       "slot             0\n",
       "room             0\n",
       "film             0\n",
       "slot type        0\n",
       "ticket type      0\n",
       "ticket price     0\n",
       "popcorn          0\n",
       "dtype: int64"
      ]
     },
     "execution_count": 19,
     "metadata": {},
     "output_type": "execute_result"
    }
   ],
   "source": [
    "ticket.isnull().sum()"
   ]
  },
  {
   "cell_type": "code",
   "execution_count": 16,
   "metadata": {},
   "outputs": [
    {
     "name": "stdout",
     "output_type": "stream",
     "text": [
      "Bf drop duplicate records in Ticket sheet: (35474, 15)\n"
     ]
    },
    {
     "data": {
      "text/plain": [
       "(35474, 15)"
      ]
     },
     "execution_count": 16,
     "metadata": {},
     "output_type": "execute_result"
    }
   ],
   "source": [
    "print(f'Bf drop duplicate records in Ticket sheet: {ticket.shape}')\n",
    "ticket.drop_duplicates().shape"
   ]
  },
  {
   "cell_type": "markdown",
   "metadata": {},
   "source": [
    "### Film table"
   ]
  },
  {
   "cell_type": "markdown",
   "metadata": {},
   "source": [
    "Sử dụng thư viện lấy data từ trang web IMDB về các thông tin phim còn thiếu, và tiến hành thêm thông tin phim còn thiếu"
   ]
  },
  {
   "cell_type": "code",
   "execution_count": 17,
   "metadata": {},
   "outputs": [
    {
     "data": {
      "text/plain": [
       "show_id          0\n",
       "title            0\n",
       "director        10\n",
       "cast             6\n",
       "country          7\n",
       "release_year     0\n",
       "rating           1\n",
       "duration         0\n",
       "listed_in        0\n",
       "description      0\n",
       "dtype: int64"
      ]
     },
     "execution_count": 17,
     "metadata": {},
     "output_type": "execute_result"
    }
   ],
   "source": [
    "film.isnull().sum()"
   ]
  },
  {
   "cell_type": "code",
   "execution_count": 18,
   "metadata": {},
   "outputs": [
    {
     "data": {
      "text/html": [
       "<div>\n",
       "<style scoped>\n",
       "    .dataframe tbody tr th:only-of-type {\n",
       "        vertical-align: middle;\n",
       "    }\n",
       "\n",
       "    .dataframe tbody tr th {\n",
       "        vertical-align: top;\n",
       "    }\n",
       "\n",
       "    .dataframe thead th {\n",
       "        text-align: right;\n",
       "    }\n",
       "</style>\n",
       "<table border=\"1\" class=\"dataframe\">\n",
       "  <thead>\n",
       "    <tr style=\"text-align: right;\">\n",
       "      <th></th>\n",
       "      <th>show_id</th>\n",
       "      <th>title</th>\n",
       "      <th>director</th>\n",
       "      <th>cast</th>\n",
       "      <th>country</th>\n",
       "      <th>release_year</th>\n",
       "      <th>rating</th>\n",
       "      <th>duration</th>\n",
       "      <th>listed_in</th>\n",
       "      <th>description</th>\n",
       "    </tr>\n",
       "  </thead>\n",
       "  <tbody>\n",
       "    <tr>\n",
       "      <th>0</th>\n",
       "      <td>s27</td>\n",
       "      <td>X-Men: Dark Phoenix</td>\n",
       "      <td>Simon Kinberg</td>\n",
       "      <td>James McAvoy, Michael Fassbender, Jennifer Law...</td>\n",
       "      <td>United States, Canada</td>\n",
       "      <td>2019</td>\n",
       "      <td>PG-13</td>\n",
       "      <td>115 min</td>\n",
       "      <td>Action-Adventure, Family, Science Fiction</td>\n",
       "      <td>When Jean Grey transforms into the Dark Phoeni...</td>\n",
       "    </tr>\n",
       "    <tr>\n",
       "      <th>1</th>\n",
       "      <td>s165</td>\n",
       "      <td>The Kid Who Would Be King</td>\n",
       "      <td>Joe Cornish</td>\n",
       "      <td>Louis Ashbourne Serkis, Tom Taylor, Rebecca Fe...</td>\n",
       "      <td>United Kingdom, United States</td>\n",
       "      <td>2019</td>\n",
       "      <td>PG</td>\n",
       "      <td>121 min</td>\n",
       "      <td>Action-Adventure, Coming of Age, Family</td>\n",
       "      <td>When a kid discovers the legendary sword, Exca...</td>\n",
       "    </tr>\n",
       "    <tr>\n",
       "      <th>2</th>\n",
       "      <td>s194</td>\n",
       "      <td>Disney My Music Story: Perfume</td>\n",
       "      <td>Kentaro Takayanagi</td>\n",
       "      <td>a-chan , KASHIYUKA , NOCCHi</td>\n",
       "      <td>NaN</td>\n",
       "      <td>2019</td>\n",
       "      <td>NaN</td>\n",
       "      <td>53 min</td>\n",
       "      <td>Biographical, Documentary, Music</td>\n",
       "      <td>J-Pop band Perfume shares their passion for mu...</td>\n",
       "    </tr>\n",
       "    <tr>\n",
       "      <th>3</th>\n",
       "      <td>s222</td>\n",
       "      <td>Disney My Music Story: Yoshiki</td>\n",
       "      <td>Kentaro Takayanagi</td>\n",
       "      <td>YOSHIKI</td>\n",
       "      <td>United States, Japan</td>\n",
       "      <td>2019</td>\n",
       "      <td>TV-PG</td>\n",
       "      <td>48 min</td>\n",
       "      <td>Biographical, Documentary, Music</td>\n",
       "      <td>Yoshiki from â€œX Japanâ€ performs two Disney...</td>\n",
       "    </tr>\n",
       "    <tr>\n",
       "      <th>4</th>\n",
       "      <td>s241</td>\n",
       "      <td>Great Shark Chow Down</td>\n",
       "      <td>Mark Woodward</td>\n",
       "      <td>Dan Nachtrab</td>\n",
       "      <td>NaN</td>\n",
       "      <td>2019</td>\n",
       "      <td>TV-PG</td>\n",
       "      <td>45 min</td>\n",
       "      <td>Animals &amp; Nature, Documentary</td>\n",
       "      <td>Great Shark Chow Down â€“ prepare for a feast ...</td>\n",
       "    </tr>\n",
       "  </tbody>\n",
       "</table>\n",
       "</div>"
      ],
      "text/plain": [
       "  show_id                           title            director  \\\n",
       "0     s27             X-Men: Dark Phoenix       Simon Kinberg   \n",
       "1    s165       The Kid Who Would Be King         Joe Cornish   \n",
       "2    s194  Disney My Music Story: Perfume  Kentaro Takayanagi   \n",
       "3    s222  Disney My Music Story: Yoshiki  Kentaro Takayanagi   \n",
       "4    s241           Great Shark Chow Down       Mark Woodward   \n",
       "\n",
       "                                                cast  \\\n",
       "0  James McAvoy, Michael Fassbender, Jennifer Law...   \n",
       "1  Louis Ashbourne Serkis, Tom Taylor, Rebecca Fe...   \n",
       "2                        a-chan , KASHIYUKA , NOCCHi   \n",
       "3                                            YOSHIKI   \n",
       "4                                       Dan Nachtrab   \n",
       "\n",
       "                         country  release_year rating duration  \\\n",
       "0          United States, Canada          2019  PG-13  115 min   \n",
       "1  United Kingdom, United States          2019     PG  121 min   \n",
       "2                            NaN          2019    NaN   53 min   \n",
       "3           United States, Japan          2019  TV-PG   48 min   \n",
       "4                            NaN          2019  TV-PG   45 min   \n",
       "\n",
       "                                   listed_in  \\\n",
       "0  Action-Adventure, Family, Science Fiction   \n",
       "1    Action-Adventure, Coming of Age, Family   \n",
       "2           Biographical, Documentary, Music   \n",
       "3           Biographical, Documentary, Music   \n",
       "4              Animals & Nature, Documentary   \n",
       "\n",
       "                                         description  \n",
       "0  When Jean Grey transforms into the Dark Phoeni...  \n",
       "1  When a kid discovers the legendary sword, Exca...  \n",
       "2  J-Pop band Perfume shares their passion for mu...  \n",
       "3  Yoshiki from â€œX Japanâ€ performs two Disney...  \n",
       "4  Great Shark Chow Down â€“ prepare for a feast ...  "
      ]
     },
     "execution_count": 18,
     "metadata": {},
     "output_type": "execute_result"
    }
   ],
   "source": [
    "film.head()"
   ]
  },
  {
   "cell_type": "code",
   "execution_count": 19,
   "metadata": {},
   "outputs": [
    {
     "data": {
      "text/html": [
       "<div>\n",
       "<style scoped>\n",
       "    .dataframe tbody tr th:only-of-type {\n",
       "        vertical-align: middle;\n",
       "    }\n",
       "\n",
       "    .dataframe tbody tr th {\n",
       "        vertical-align: top;\n",
       "    }\n",
       "\n",
       "    .dataframe thead th {\n",
       "        text-align: right;\n",
       "    }\n",
       "</style>\n",
       "<table border=\"1\" class=\"dataframe\">\n",
       "  <thead>\n",
       "    <tr style=\"text-align: right;\">\n",
       "      <th></th>\n",
       "      <th>show_id</th>\n",
       "      <th>title</th>\n",
       "      <th>director</th>\n",
       "      <th>cast</th>\n",
       "      <th>country</th>\n",
       "      <th>release_year</th>\n",
       "      <th>rating</th>\n",
       "      <th>duration</th>\n",
       "      <th>listed_in</th>\n",
       "      <th>description</th>\n",
       "    </tr>\n",
       "  </thead>\n",
       "  <tbody>\n",
       "    <tr>\n",
       "      <th>5</th>\n",
       "      <td>s265</td>\n",
       "      <td>Man vs. Shark</td>\n",
       "      <td>NaN</td>\n",
       "      <td>Jeremiah Sullivan, Dave Hoffman</td>\n",
       "      <td>United States</td>\n",
       "      <td>2019</td>\n",
       "      <td>TV-PG</td>\n",
       "      <td>45 min</td>\n",
       "      <td>Animals &amp; Nature, Documentary</td>\n",
       "      <td>Marine biologist attempts to get bitten by a d...</td>\n",
       "    </tr>\n",
       "    <tr>\n",
       "      <th>9</th>\n",
       "      <td>s313</td>\n",
       "      <td>Oil Spill of The Century</td>\n",
       "      <td>NaN</td>\n",
       "      <td>LoÃ¯ck Peyron</td>\n",
       "      <td>NaN</td>\n",
       "      <td>2019</td>\n",
       "      <td>TV-PG</td>\n",
       "      <td>45 min</td>\n",
       "      <td>Documentary, Historical</td>\n",
       "      <td>LoÃ¯ck Peyron investigates the 1978 Amoco Cadi...</td>\n",
       "    </tr>\n",
       "    <tr>\n",
       "      <th>12</th>\n",
       "      <td>s366</td>\n",
       "      <td>Star Wars: Galaxy's Edge-Adventure Awaits</td>\n",
       "      <td>NaN</td>\n",
       "      <td>Neil Harris, Kaley Cuoco, Oscar Isaac, Sarah H...</td>\n",
       "      <td>United States</td>\n",
       "      <td>2019</td>\n",
       "      <td>TV-PG</td>\n",
       "      <td>81 min</td>\n",
       "      <td>Documentary, Family</td>\n",
       "      <td>Celebrating Disneyâ€™s new land that brings St...</td>\n",
       "    </tr>\n",
       "    <tr>\n",
       "      <th>13</th>\n",
       "      <td>s393</td>\n",
       "      <td>Lost City of Machu Picchu</td>\n",
       "      <td>NaN</td>\n",
       "      <td>Craig Sechler</td>\n",
       "      <td>United States</td>\n",
       "      <td>2019</td>\n",
       "      <td>TV-14</td>\n",
       "      <td>44 min</td>\n",
       "      <td>Documentary, Family</td>\n",
       "      <td>Who were the mysterious people who built Machu...</td>\n",
       "    </tr>\n",
       "    <tr>\n",
       "      <th>15</th>\n",
       "      <td>s440</td>\n",
       "      <td>Women Of Impact: Changing The World</td>\n",
       "      <td>NaN</td>\n",
       "      <td>Julianna Margulies</td>\n",
       "      <td>United States</td>\n",
       "      <td>2019</td>\n",
       "      <td>TV-PG</td>\n",
       "      <td>44 min</td>\n",
       "      <td>Documentary, Historical</td>\n",
       "      <td>How will you make the world a better place? He...</td>\n",
       "    </tr>\n",
       "    <tr>\n",
       "      <th>27</th>\n",
       "      <td>s594</td>\n",
       "      <td>Marvel Rising: Battle of The Bands</td>\n",
       "      <td>NaN</td>\n",
       "      <td>Dee Baker, Dove Cameron, Skai Jackson, Kathree...</td>\n",
       "      <td>United States</td>\n",
       "      <td>2019</td>\n",
       "      <td>TV-Y7</td>\n",
       "      <td>23 min</td>\n",
       "      <td>Action-Adventure, Animation, Superhero</td>\n",
       "      <td>Gwen (Ghost-Spider) has to defeat Screaming Mi...</td>\n",
       "    </tr>\n",
       "    <tr>\n",
       "      <th>37</th>\n",
       "      <td>s620</td>\n",
       "      <td>Marvel Rising: Chasing Ghosts</td>\n",
       "      <td>NaN</td>\n",
       "      <td>Dee Baker, Chloe Bennet, Dove Cameron, Skai Ja...</td>\n",
       "      <td>United States</td>\n",
       "      <td>2019</td>\n",
       "      <td>TV-Y7-FV</td>\n",
       "      <td>24 min</td>\n",
       "      <td>Action-Adventure, Animation, Superhero</td>\n",
       "      <td>Ghost-Spider teams up with the Secret Warriors.</td>\n",
       "    </tr>\n",
       "    <tr>\n",
       "      <th>38</th>\n",
       "      <td>s621</td>\n",
       "      <td>Marvel Rising: Heart of Iron</td>\n",
       "      <td>NaN</td>\n",
       "      <td>Dee Baker, Chloe Bennet, Dove Cameron, Robbie ...</td>\n",
       "      <td>United States</td>\n",
       "      <td>2019</td>\n",
       "      <td>TV-Y7</td>\n",
       "      <td>46 min</td>\n",
       "      <td>Action-Adventure, Animation, Coming of Age</td>\n",
       "      <td>Ironheart joins the Secret Warriors to defend ...</td>\n",
       "    </tr>\n",
       "    <tr>\n",
       "      <th>42</th>\n",
       "      <td>s632</td>\n",
       "      <td>Happy Birthday, Mickey!</td>\n",
       "      <td>NaN</td>\n",
       "      <td>NaN</td>\n",
       "      <td>NaN</td>\n",
       "      <td>2019</td>\n",
       "      <td>TV-G</td>\n",
       "      <td>2 min</td>\n",
       "      <td>Animation, Comedy, Dance</td>\n",
       "      <td>Celebrating Mickey, the worldâ€™s most beloved...</td>\n",
       "    </tr>\n",
       "    <tr>\n",
       "      <th>53</th>\n",
       "      <td>s963</td>\n",
       "      <td>Marvel Studios: Expanding the Universe</td>\n",
       "      <td>NaN</td>\n",
       "      <td>NaN</td>\n",
       "      <td>NaN</td>\n",
       "      <td>2019</td>\n",
       "      <td>TV-PG</td>\n",
       "      <td>13 min</td>\n",
       "      <td>Documentary, Family</td>\n",
       "      <td>An exciting look into the future of Marvel Stu...</td>\n",
       "    </tr>\n",
       "  </tbody>\n",
       "</table>\n",
       "</div>"
      ],
      "text/plain": [
       "   show_id                                      title director  \\\n",
       "5     s265                              Man vs. Shark      NaN   \n",
       "9     s313                   Oil Spill of The Century      NaN   \n",
       "12    s366  Star Wars: Galaxy's Edge-Adventure Awaits      NaN   \n",
       "13    s393                  Lost City of Machu Picchu      NaN   \n",
       "15    s440        Women Of Impact: Changing The World      NaN   \n",
       "27    s594         Marvel Rising: Battle of The Bands      NaN   \n",
       "37    s620              Marvel Rising: Chasing Ghosts      NaN   \n",
       "38    s621               Marvel Rising: Heart of Iron      NaN   \n",
       "42    s632                    Happy Birthday, Mickey!      NaN   \n",
       "53    s963     Marvel Studios: Expanding the Universe      NaN   \n",
       "\n",
       "                                                 cast        country  \\\n",
       "5                     Jeremiah Sullivan, Dave Hoffman  United States   \n",
       "9                                       LoÃ¯ck Peyron            NaN   \n",
       "12  Neil Harris, Kaley Cuoco, Oscar Isaac, Sarah H...  United States   \n",
       "13                                      Craig Sechler  United States   \n",
       "15                                 Julianna Margulies  United States   \n",
       "27  Dee Baker, Dove Cameron, Skai Jackson, Kathree...  United States   \n",
       "37  Dee Baker, Chloe Bennet, Dove Cameron, Skai Ja...  United States   \n",
       "38  Dee Baker, Chloe Bennet, Dove Cameron, Robbie ...  United States   \n",
       "42                                                NaN            NaN   \n",
       "53                                                NaN            NaN   \n",
       "\n",
       "    release_year    rating duration  \\\n",
       "5           2019     TV-PG   45 min   \n",
       "9           2019     TV-PG   45 min   \n",
       "12          2019     TV-PG   81 min   \n",
       "13          2019     TV-14   44 min   \n",
       "15          2019     TV-PG   44 min   \n",
       "27          2019     TV-Y7   23 min   \n",
       "37          2019  TV-Y7-FV   24 min   \n",
       "38          2019     TV-Y7   46 min   \n",
       "42          2019      TV-G    2 min   \n",
       "53          2019     TV-PG   13 min   \n",
       "\n",
       "                                     listed_in  \\\n",
       "5                Animals & Nature, Documentary   \n",
       "9                      Documentary, Historical   \n",
       "12                         Documentary, Family   \n",
       "13                         Documentary, Family   \n",
       "15                     Documentary, Historical   \n",
       "27      Action-Adventure, Animation, Superhero   \n",
       "37      Action-Adventure, Animation, Superhero   \n",
       "38  Action-Adventure, Animation, Coming of Age   \n",
       "42                    Animation, Comedy, Dance   \n",
       "53                         Documentary, Family   \n",
       "\n",
       "                                          description  \n",
       "5   Marine biologist attempts to get bitten by a d...  \n",
       "9   LoÃ¯ck Peyron investigates the 1978 Amoco Cadi...  \n",
       "12  Celebrating Disneyâ€™s new land that brings St...  \n",
       "13  Who were the mysterious people who built Machu...  \n",
       "15  How will you make the world a better place? He...  \n",
       "27  Gwen (Ghost-Spider) has to defeat Screaming Mi...  \n",
       "37    Ghost-Spider teams up with the Secret Warriors.  \n",
       "38  Ironheart joins the Secret Warriors to defend ...  \n",
       "42  Celebrating Mickey, the worldâ€™s most beloved...  \n",
       "53  An exciting look into the future of Marvel Stu...  "
      ]
     },
     "execution_count": 19,
     "metadata": {},
     "output_type": "execute_result"
    }
   ],
   "source": [
    "film.loc[film['director'].isnull()]"
   ]
  },
  {
   "cell_type": "code",
   "execution_count": 173,
   "metadata": {},
   "outputs": [],
   "source": [
    "film['list_country'] = film['country'].str.split(',')\n",
    "film['list_cast'] = film['cast'].str.split(',')\n",
    "film['listed_in'] = film['listed_in'].str.split(',')\n",
    "film['list_director'] = film['director'].str.split(',')"
   ]
  },
  {
   "cell_type": "code",
   "execution_count": 25,
   "metadata": {},
   "outputs": [],
   "source": [
    "# def fill_film_data_missing(df):\n",
    "#     ia = Cinemagoer()\n",
    "#     for col in df.isnull().sum().items():\n",
    "#         if col[1] > 0: \n",
    "#             for index in df[df[col[0]].isnull()].index.tolist():\n",
    "#                 movies = ia.search_movie(df.iloc[index]['title'])\n",
    "#                 max=0;idx_movies=0\n",
    "#                 for i in range(len(movies)):\n",
    "#                     temp = fuzz.token_sort_ratio(df.iloc[index]['title'],movies[i]['title'])\n",
    "#                     if temp > max:\n",
    "#                         max = temp\n",
    "#                         idx_movies = i\n",
    "#                 movie = ia.get_movie(movies[idx_movies].movieID)\n",
    "#                 if (df.isnull().iloc[index]['director'])&('director' in movie.data.keys()):\n",
    "#                     df.at[index,'director'] = movie.data['director'][0]['name']\n",
    "#                 if (df.isnull().iloc[index]['list_country'])&('countries' in movie.data.keys()):\n",
    "#                     df.at[index, 'list_country'] = movie.data['countries']\n",
    "#                 if (df.isnull().iloc[index]['list_cast'])&('cast' in movie.data.keys()):\n",
    "#                     df.at[index, 'list_cast'] = [movie.data['cast'][i]['name'] for i in range(len(movie['cast']))]\n",
    "#                 if (df.isnull().iloc[index]['rating'])&('certificates' in movie.data.keys()):\n",
    "#                     if len(movie.data['certificates'])>2:\n",
    "#                         df.at[index, 'rating'] = re.sub(\n",
    "#                             r'^.*?:', '', movie.data['certificates'][1])\n",
    "#                     elif len(movie.data['certificates'])==2:\n",
    "#                         df.at[index, 'rating'] = re.sub(\n",
    "#                             r'^.*?:', '', movie.data['certificates'][0])\n",
    "#     return df\n",
    "# film = fill_film_data_missing(film)"
   ]
  },
  {
   "cell_type": "code",
   "execution_count": 26,
   "metadata": {},
   "outputs": [],
   "source": [
    "# translator = Translator()\n",
    "# for index1, row1 in ticket.iterrows():\n",
    "#     for index2, row2 in film.iterrows():\n",
    "#         translate_text = translator.translate(row2['title'].lower(), dest='en')\n",
    "#         if SequenceMatcher(a=row1['film'].lower(), b=translate_text.text).ratio() >= 0.9:\n",
    "#             ticket.at[index1, 'id_film'] = row2['show_id']"
   ]
  },
  {
   "cell_type": "code",
   "execution_count": 134,
   "metadata": {},
   "outputs": [],
   "source": [
    "def fill_film_data_missing(film):\n",
    "    #filling data film mising\n",
    "    tmdb = TMDb(key=\"710d86a93f14fbb9e075cf6cddafb5f7\")\n",
    "    for col in film.isnull().sum().items():\n",
    "        if col[1] > 0: \n",
    "            for index in film[film[col[0]].isnull()].index.tolist():\n",
    "                results = tmdb.search().multi(film.iloc[index]['title'])\n",
    "                max=90; movie=np.nan\n",
    "                for result in results:\n",
    "                    if result.is_movie():\n",
    "                        if len(results)>1:\n",
    "                            temp_movie = tmdb.movie(result.id)\n",
    "                            temp = fuzz.token_sort_ratio(\n",
    "                                film.iloc[index]['title'].lower(), temp_movie.details().title.lower())\n",
    "                            if temp > max:\n",
    "                                max = temp\n",
    "                                movie = temp_movie\n",
    "                        else:\n",
    "                            movie = tmdb.movie(result.id)\n",
    "            if (movie != np.nan) & (type(movie) != float):\n",
    "                if film.isnull().iloc[index]['original_title']:\n",
    "                    film.at[index, 'original_title'] = movie.details().original_title\n",
    "                if film.isnull().iloc[index]['list_director']:\n",
    "                    film.at[index, 'list_director'] = [person for person in movie.credits().crew if person.job == 'Director']\n",
    "                if film.isnull().iloc[index]['list_country']:\n",
    "                    film.at[index, 'list_country'] = [country for country in movie.details().production_countries]\n",
    "                if film.isnull().iloc[index]['list_cast']:\n",
    "                    if len(movie.credits().cast) > 5:\n",
    "                        film.at[index, 'list_cast'] = [cast for cast in movie.credits().cast[:5]]\n",
    "                    elif len(movie.credits().cast) <= 5:\n",
    "                        film.at[index, 'list_cast'] = [cast for cast in movie.credits().cast]\n",
    "                if film.isnull().iloc[index]['rating']:\n",
    "                    for release_date in movie.release_dates().results:\n",
    "                        if release_date.iso_3166_1 == 'VI':\n",
    "                            for rl_local in release_date.release_dates:\n",
    "                                if rl_local.certification != '':\n",
    "                                    film.at[index,'rating'] = rl_local.certification\n",
    "                                    break\n",
    "                        elif release_date.iso_3166_1 == 'US':\n",
    "                            for rl_local in release_date.release_dates:\n",
    "                                if rl_local.certification != '':\n",
    "                                    film.at[index,'rating'] = rl_local.certification\n",
    "                                    break\n",
    "                if film.isnull().iloc[index]['production_companies']:\n",
    "                    for info in movie.details().production_companies:\n",
    "                        production_companies_name = info.name\n",
    "                        film.at[index, 'production_companies'] = production_companies_name\n",
    "                        \n",
    "                if film.isnull().iloc[index]['release_date']:\n",
    "                    film.at[index, 'release_date'] = movie.details().release_date\n",
    "                \n",
    "                if film.isnull().iloc[index]['poster_path']:\n",
    "                    if (movie.details().poster_path != np.nan) | (movie.details().poster_path is not None):\n",
    "                        film.at[index, 'poster_path'] = 'https://image.tmdb.org/t/p/w500' + \\\n",
    "                        movie.details().poster_path\n",
    "                if film.isnull().iloc[index]['revenue']:\n",
    "                    film.at[index, 'revenue'] = movie.details().revenue\n",
    "                if film.isnull().iloc[index]['vote_average']:\n",
    "                    film.at[index, 'vote_average'] = movie.details().vote_average\n",
    "                if film.isnull().iloc[index]['vote_count']:\n",
    "                    film.at[index, 'vote_average'] = movie.details().vote_count\n",
    "    return film"
   ]
  },
  {
   "cell_type": "code",
   "execution_count": 137,
   "metadata": {},
   "outputs": [],
   "source": [
    "def get_film_data_missing(search_text):\n",
    "#getting data film mising\n",
    "    tmdb = TMDb(key=\"710d86a93f14fbb9e075cf6cddafb5f7\", language='vi')\n",
    "    results = tmdb.search().multi(search_text)\n",
    "    max=50; new_row={}; movie=np.nan\n",
    "    for result in results:\n",
    "        if result.is_movie():\n",
    "            if len(results)>1:\n",
    "                temp_movie = tmdb.movie(result.id)\n",
    "                temp = fuzz.token_sort_ratio(\n",
    "                    search_text.lower(), temp_movie.details().title.lower())\n",
    "                if temp > max:\n",
    "                    max = temp\n",
    "                    movie = temp_movie\n",
    "            else:\n",
    "                movie = tmdb.movie(result.id)\n",
    "    if (movie != np.nan) & (type(movie) != float):\n",
    "        new_row = {'show_id': movie.details().id}\n",
    "        new_row.update({'original_title': movie.details().original_title,\n",
    "                        'title': movie.details().title,\n",
    "                        'list_director': [person.name  for person in movie.credits().crew if person.job == 'Director']})\n",
    "        if len(movie.credits().cast) > 5:\n",
    "            new_row.update(\n",
    "                {'list_cast': [cast.name for cast in movie.credits().cast[:5]]})\n",
    "        else:\n",
    "            new_row.update(\n",
    "                {'list_cast': [cast.name for cast in movie.credits().cast]})\n",
    "        for release_date in movie.release_dates().results:\n",
    "            if release_date.iso_3166_1 == 'VI':\n",
    "                for rl_local in release_date.release_dates:\n",
    "                    if rl_local.certification != '':\n",
    "                        new_row.update({'rating': rl_local.certification})\n",
    "                        break\n",
    "            elif (release_date.iso_3166_1 == 'US')&('rating' not in new_row.keys()):\n",
    "                for rl_local in release_date.release_dates:\n",
    "                    if rl_local.certification != '':\n",
    "                        new_row.update({'rating': rl_local.certification})\n",
    "                        break\n",
    "        for info in movie.details().production_companies:\n",
    "            production_companies_name = info.name\n",
    "            new_row.update({'production_companies': production_companies_name})\n",
    "        new_row.update({'list_country': [country.name for country in movie.details().production_countries], \n",
    "                        'release_year': movie.details().year,\n",
    "                        'release_date': movie.details().release_date,\n",
    "                        'duration': str(movie.details().runtime) + ' min',\n",
    "                        'listed_in': [genres.name for genres in movie.details().genres],\n",
    "                        'description':movie.details().overview,\n",
    "                        'poster_path': 'https://image.tmdb.org/t/p/w500'+movie.details().poster_path,\n",
    "                        'revenue': movie.details().revenue,\n",
    "                        'vote_average': movie.details().vote_average,\n",
    "                        'vote_count': movie.details().vote_count})\n",
    "        # ticket.at[idx, 'show_id'] = new_row['show_id']\n",
    "    return new_row"
   ]
  },
  {
   "cell_type": "code",
   "execution_count": 29,
   "metadata": {},
   "outputs": [],
   "source": [
    "# async def fill_and_get_film_data_missing(film, ticket):\n",
    "#     # filling data film mising\n",
    "#     tmdb = aioTMDb(key=\"710d86a93f14fbb9e075cf6cddafb5f7\")\n",
    "#     for col in film.isnull().sum().items():\n",
    "#         if col[1] > 0:\n",
    "#             for index in film[film[col[0]].isnull()].index.tolist():\n",
    "#                 results = await tmdb.search().multi(film.iloc[index]['title'])\n",
    "#                 max = 95\n",
    "#                 for result in results:\n",
    "#                     if result.is_movie():\n",
    "#                         temp_movie = await tmdb.movie(result.id)\n",
    "#                         temp_movie_details = await temp_movie.details()\n",
    "#                         temp = fuzz.token_sort_ratio(\n",
    "#                             film.iloc[index]['title'].lower(), temp_movie_details.original_title.lower())\n",
    "#                         if temp > max:\n",
    "#                             max = temp\n",
    "#                             movie = temp_movie\n",
    "#                             movie_credits = await movie.credits()\n",
    "#                             movie_details = await movie.details()\n",
    "#                 if film.isnull().iloc[index]['list_director']:\n",
    "#                     film.at[index, 'list_director'] = [\n",
    "#                         person for person in movie_credits.crew if person.job == 'Director']\n",
    "#                 if film.isnull().iloc[index]['list_country']:\n",
    "#                     film.at[index, 'list_country'] = [\n",
    "#                         country for country in movie_details.production_countries]\n",
    "#                 if film.isnull().iloc[index]['list_cast']:\n",
    "#                     if len(movie_credits.cast) > 5:\n",
    "#                         film.at[index, 'list_cast'] = [\n",
    "#                             cast for cast in movie_credits.cast[:5]]\n",
    "#                     elif len(movie_credits.cast) <= 5:\n",
    "#                         film.at[index, 'list_cast'] = [\n",
    "#                             cast for cast in movie_credits.cast]\n",
    "#                 film[index, 'release_date'] = movie_details.release_date\n",
    "#     # getting data film mising\n",
    "#     translator = Translator()\n",
    "#     for idx, title in ticket.film.items():\n",
    "#         translate_text = translator.translate(title, dest='en')\n",
    "#         results = await tmdb.search().multi(translate_text.text.lower())\n",
    "#         max = 95\n",
    "#         new_row = {}\n",
    "#         for result in results:\n",
    "#             if result.is_movie():\n",
    "#                 temp_movie = await tmdb.movie(result.id)\n",
    "#                 temp_movie_details = await temp_movie.details()\n",
    "#                 temp = fuzz.token_sort_ratio(\n",
    "#                     translate_text.text.lower(), temp_movie_details.original_title.lower())\n",
    "#                 if temp > max:\n",
    "#                     max = temp\n",
    "#                     movie = temp_movie\n",
    "#                     movie_credits = await movie.credits()\n",
    "#                     movie_details = await movie.details()\n",
    "#         if movie is not None:\n",
    "#             new_row = {'show_id': 's' +\n",
    "#                        str(int(film['show_id'].iloc[-1].split('s')[1])+1)}\n",
    "#             if movie_details.original_title not in film.title:\n",
    "#                 new_row.update({'title': movie_details.original_title,\n",
    "#                                 'list_director': [person for person in movie_credits.crew if person.job == 'Director']})\n",
    "#                 if len(movie_credits.cast) > 5:\n",
    "#                     new_row.update(\n",
    "#                         {'list_cast': [cast for cast in movie_credits.cast[:5]]})\n",
    "#                 else:\n",
    "#                     new_row.update(\n",
    "#                         {'list_cast': [cast for cast in movie_credits.cast]})\n",
    "#                 new_row.update({'list_country': [country for country in movie_details.production_countries],\n",
    "#                                 'release_year': movie_details.year,\n",
    "#                                 'release_date': movie_details.release_date,\n",
    "#                                 'duration': movie_details.runtime + 'min',\n",
    "#                                 'listed_in': [genres for genres in movie_details.genres],\n",
    "#                                 'description': movie_details.overview})\n",
    "#             ticket.at[idx, 'show_id'] = new_row['show_id']\n",
    "#             df_the_dict = pd.DataFrame(\n",
    "#                 {'name': new_row.keys(), 'value': new_row.values()})\n",
    "#             film = pd.concat([film, df_the_dict], ignore_index=True)\n",
    "#     return film"
   ]
  },
  {
   "cell_type": "code",
   "execution_count": 149,
   "metadata": {},
   "outputs": [],
   "source": [
    "def fill_missing_by_cinemagoer(film):\n",
    "    # filling data film mising\n",
    "    try:\n",
    "        ia = Cinemagoer()\n",
    "        for col in film.isnull().sum().items():\n",
    "            if col[1] > 0:\n",
    "                for index in film[film[col[0]].isnull()].index.tolist():\n",
    "                    movies = ia.search_movie(film.iloc[index]['title'].lower())\n",
    "                    max = 95\n",
    "                    idx_movies = 0\n",
    "                    for i in range(len(movies)):\n",
    "                        temp = fuzz.token_sort_ratio(\n",
    "                            film.iloc[index]['title'].lower(), movies[i]['title'].lower())\n",
    "                        if temp > max:\n",
    "                            max = temp\n",
    "                            idx_movies = i\n",
    "                    movie = ia.get_movie(movies[idx_movies].movieID)\n",
    "                    if (film.isnull().iloc[index]['rating']) & ('certificates' in movie.data.keys()):\n",
    "                        certificates=[]\n",
    "                        for cer in movie.data['certificates']:\n",
    "                            certificates.append(cer.split(':'))\n",
    "                        for cer in certificates:\n",
    "                            if cer[0]=='Vietnam':\n",
    "                                film.at[index, 'rating'] = cer[1]\n",
    "                    if (film.isnull().iloc[index]['list_country']) & ('countries' in movie.data.keys()):\n",
    "                        film.at[index, 'list_country'] = movie.data['countries']\n",
    "                    if (film.isnull().iloc[index]['list_cast']) & ('cast' in movie.data.keys()):\n",
    "                        film.at[index, 'list_cast'] = [cast['name']\n",
    "                                                          for cast in movie.data['cast']]\n",
    "                    if (film.isnull().iloc[index]['list_director']) & ('director' in movie.data.keys()):\n",
    "                        film.at[index, 'list_director'] = [director['name']\n",
    "                                                       for director in movie.data['director']]\n",
    "                    if (film.isnull().iloc[index]['vote_count']) & ('votes' in movie.data.keys()):\n",
    "                        film.at[index, 'vote_count'] = movie.data['votes']\n",
    "                    if (film.isnull().iloc[index]['poster_path']) & ('cover url' in movie.data.keys()):\n",
    "                        film.at[index, 'poster_path'] = movie.data['cover url']\n",
    "                    if (film.isnull().iloc[index]['production_companies']) & ('cast' in movie.data.keys()):\n",
    "                        film.at[index, 'production_companies'] = movie.data['production companies'][0]['name']\n",
    "    except IMDbError as e:\n",
    "        print(e)\n",
    "    return film"
   ]
  },
  {
   "cell_type": "code",
   "execution_count": 66,
   "metadata": {},
   "outputs": [
    {
     "data": {
      "text/plain": [
       "array(['AVENGERS: HỒI KẾT', 'JOHN WICK 3: CHUẨN BỊ CHIẾN TRANH (C18)',\n",
       "       'NGÔI ĐỀN KỲ QUÁI (C18)', 'VÔ GIAN ĐẠO (C18)',\n",
       "       'MẸ MA THAN KHÓC LA LLORONA (C18)', 'ALADDIN (PD) (G)',\n",
       "       'POKÉMON: THÁM TỬ PIKACHU (C13)', 'ALADDIN (LT) (G)',\n",
       "       'THẰNG EM LÝ TƯỞNG', 'ƯỚC HẸN MÙA THU', 'QUÝ CÔ LỪA ĐẢO',\n",
       "       'CHÚA TỂ GODZILLA: ĐẾ VƯƠNG BẤT TỬ (C13)',\n",
       "       '(LT) DORAEMON: NOBITA VÀ MẶT TRĂNG PHIÊU LƯU KÝ (G)',\n",
       "       'LẬT MẶT: NHÀ CÓ KHÁCH', 'VỢ BA', 'NỤ HÔN MA QUÁI (C18)',\n",
       "       '(PĐ) DORAEMON: NOBITA VÀ MẶT TRĂNG PHIÊU LƯU KÝ (G)',\n",
       "       'CORGI: NHỮNG CHÚ CHÓ HOÀNG GIA (LT)', 'CÀ CHỚN ANH ĐỪNG ĐI'],\n",
       "      dtype=object)"
      ]
     },
     "execution_count": 66,
     "metadata": {},
     "output_type": "execute_result"
    }
   ],
   "source": [
    "ticket.film.unique()"
   ]
  },
  {
   "cell_type": "code",
   "execution_count": 114,
   "metadata": {},
   "outputs": [],
   "source": [
    "dict1=get_film_data_missing('john wick 3')"
   ]
  },
  {
   "cell_type": "code",
   "execution_count": 178,
   "metadata": {},
   "outputs": [],
   "source": [
    "for col in dict1.keys():\n",
    "    if col not in film.columns:\n",
    "        film[col] = np.nan"
   ]
  },
  {
   "cell_type": "code",
   "execution_count": 34,
   "metadata": {},
   "outputs": [],
   "source": [
    "# pattern = re.compile(r'\\(([^)]+)\\)')\n",
    "# ticket['rating'] = ticket['film'].apply(lambda x: pattern.findall(x)[0] if pattern.findall(x) != [] else (pattern.findall(x)[1] if len(pattern.findall(x))==2 else np.nan))"
   ]
  },
  {
   "cell_type": "code",
   "execution_count": 116,
   "metadata": {},
   "outputs": [],
   "source": [
    "ticket['title_clean'] = ticket['film'].apply(\n",
    "    lambda x: re.sub(r'\\(([^)]+)\\)', '', x).strip())"
   ]
  },
  {
   "cell_type": "code",
   "execution_count": 179,
   "metadata": {},
   "outputs": [],
   "source": [
    "for title in ticket.title_clean.unique():\n",
    "    dict_temp = get_film_data_missing(title)\n",
    "    if (dict_temp != np.nan) | (dict_temp!={}):\n",
    "        if dict_temp['title'] not in film.title:\n",
    "            film.loc[len(film)] = dict_temp\n",
    "            ticket.loc[ticket.title_clean == title,'show_id'] = dict_temp['show_id']\n",
    "    else:\n",
    "        print(title)"
   ]
  },
  {
   "cell_type": "code",
   "execution_count": 180,
   "metadata": {},
   "outputs": [
    {
     "data": {
      "text/plain": [
       "array([], dtype=object)"
      ]
     },
     "execution_count": 180,
     "metadata": {},
     "output_type": "execute_result"
    }
   ],
   "source": [
    "ticket.loc[ticket['show_id'].isna() == True].title_clean.unique()"
   ]
  },
  {
   "cell_type": "code",
   "execution_count": 71,
   "metadata": {},
   "outputs": [
    {
     "name": "stdout",
     "output_type": "stream",
     "text": [
      "พี่นาค 2 /6RI0xVRqmUGwSouUm70KZVOkh69.jpg\n",
      "Bộ đôi khẩu nghiệp đã hoàn tục quay lại con đường tạo nghiệp nhưng không may quả báo đến sớm, cặp đôi trời đánh suýt chết nhiều lần bởi lời nguyền bí ẩn. Họ đã phải quay lại đền tìm Nhong để trợ giúp phá giải lời nguyền. Liệu họ sẽ tìm được cách phá giải lời nguyền hay khiến cho mọi thứ trở nên tồi tệ hơn. \n",
      "\n",
      "พี่นาค /6RI0xVRqmUGwSouUm70KZVOkh69.jpg\n",
      "Ngôi Đền Kỳ Quái nói về bộ ba hoàn cảnh vì lời thề ngớ ngẩn sẽ cạo đầu đi tu nếu trúng số và may mắn trúng ngay giải chót. Và “may mắn” lại nhân đôi khi hội bạn thân lại chọn trúng ngay ngôi đền bị ám bởi hàng loạt hiện tượng siêu nhiên. Từ một lời thề quái gở, hội bạn “thân ai nấy lo” này sẽ phải đối mặt với hàng loạt rắc rối đang đón chờ phía trước ra sao? \n",
      "\n",
      "พี่นาค 3 /6RI0xVRqmUGwSouUm70KZVOkh69.jpg\n",
      "Peace Aod, một người thợ bốc mộ trẻ tuổi ở Đền Thamma Nakanimitr, đã khai quật được một chiếc vòng chân cổ bằng vàng từ một ngôi mộ từ thời Thế chiến thứ hai. Anh ta quyết định bỏ túi chiếc vòng chân và rơi vào con mồi của một lời nguyền biến da của anh ta thành vảy rắn \n",
      "\n"
     ]
    }
   ],
   "source": [
    "tmdb = TMDb(key=\"710d86a93f14fbb9e075cf6cddafb5f7\", language='vi')\n",
    "results = tmdb.search().multi('ngôi đền kỳ quái')\n",
    "for result in results:\n",
    "    if result.is_movie():\n",
    "        movie = tmdb.movie(result.id)\n",
    "        print(movie.details().original_title,\n",
    "              movie.details().belongs_to_collection.poster_path)\n",
    "        print(movie.details().overview, \"\\n\")"
   ]
  },
  {
   "cell_type": "code",
   "execution_count": 182,
   "metadata": {},
   "outputs": [],
   "source": [
    "film=fill_film_data_missing(film)"
   ]
  },
  {
   "cell_type": "code",
   "execution_count": null,
   "metadata": {},
   "outputs": [],
   "source": [
    "film=fill_missing_by_cinemagoer(film)"
   ]
  },
  {
   "cell_type": "code",
   "execution_count": 190,
   "metadata": {},
   "outputs": [
    {
     "data": {
      "text/plain": [
       "show_id                  0\n",
       "title                    0\n",
       "director                27\n",
       "cast                    23\n",
       "country                 24\n",
       "release_year             0\n",
       "rating                   3\n",
       "duration                 0\n",
       "listed_in                0\n",
       "description              0\n",
       "list_country             3\n",
       "list_cast                0\n",
       "list_director            2\n",
       "original_title          51\n",
       "production_companies    43\n",
       "release_date            51\n",
       "poster_path             42\n",
       "revenue                 52\n",
       "vote_average            52\n",
       "vote_count              49\n",
       "dtype: int64"
      ]
     },
     "execution_count": 190,
     "metadata": {},
     "output_type": "execute_result"
    }
   ],
   "source": [
    "film.isnull().sum()"
   ]
  },
  {
   "cell_type": "code",
   "execution_count": 192,
   "metadata": {},
   "outputs": [],
   "source": [
    "film_copy = film.copy()"
   ]
  },
  {
   "cell_type": "code",
   "execution_count": 203,
   "metadata": {},
   "outputs": [
    {
     "data": {
      "text/plain": [
       "array(['PG-13', 'PG', nan, 'TV-PG', 'TV-G', 'TV-14', 'G', 'TV-Y7',\n",
       "       'TV-Y7-FV', 'R', 'C18', 'P', 'C16'], dtype=object)"
      ]
     },
     "execution_count": 203,
     "metadata": {},
     "output_type": "execute_result"
    }
   ],
   "source": [
    "film.rating.unique()"
   ]
  },
  {
   "cell_type": "code",
   "execution_count": 101,
   "metadata": {},
   "outputs": [],
   "source": [
    "# def flat_data(data, column, new_name, drop_columns):\n",
    "#     flat_film_data = [(index, item) for index, sublist in data.loc[data[column].notnull(\n",
    "#     )][column].items() for item in sublist]\n",
    "#     flat_film_data = pd.DataFrame(flat_film_data,\n",
    "#                                   columns=['index', new_name]).set_index('index')\n",
    "#     data = data.drop(drop_columns,\n",
    "#                                    axis=1).join(flat_film_data)\n",
    "#     return data\n",
    "    "
   ]
  },
  {
   "cell_type": "code",
   "execution_count": 197,
   "metadata": {},
   "outputs": [],
   "source": [
    "# film['list_country'] = film['list_country'].loc[film['list_country'].notnull()].apply(lambda cell:\n",
    "#                                                   ''.join(c for c in cell if c not in \"'[]\").split(', '))\n",
    "# film['list_cast'] = film['list_cast'].loc[film['list_cast'].notnull()].apply(lambda cell:\n",
    "#                                                                                       ''.join(c for c in cell if c not in \"'[]\").split(', '))\n",
    "film['listed_in'] = film['listed_in'].loc[film['listed_in'].notnull()].apply(lambda cell:\n",
    "                                                                                      ''.join(c for c in cell if c not in \"'[]\").split(', '))\n",
    "# film['list_director'] = film['list_director'].loc[film['list_director'].notnull()].apply(lambda cell:\n",
    "#                                                                                       ''.join(c for c in cell if c not in \"'[]\").split(', '))"
   ]
  },
  {
   "cell_type": "code",
   "execution_count": 102,
   "metadata": {},
   "outputs": [],
   "source": [
    "# film = flat_data(film, 'list_country', 'country', ['country', 'list_country'])\n",
    "# film = flat_data(film, 'list_cast', 'cast', ['cast', 'list_cast'])\n",
    "# film = flat_data(film, 'list_director', 'director',\n",
    "#                  ['director', 'list_director'])"
   ]
  },
  {
   "cell_type": "code",
   "execution_count": 207,
   "metadata": {},
   "outputs": [],
   "source": [
    "flat_country_film_data = [(index, item) for index, sublist in film.loc[film['list_country'].notnull(\n",
    ")]['list_country'].items() for item in sublist]\n",
    "flat_cast_film_data = [(index, item) for index, sublist in film.loc[film['list_cast'].notnull(\n",
    ")]['list_cast'].items() for item in sublist]\n",
    "flat_genres_film_data = [(index, item) for index, sublist in film.loc[film['listed_in'].notnull(\n",
    ")]['listed_in'].items() for item in sublist]\n",
    "flat_director_film_data = [(index, item) for index, sublist in film.loc[film['list_director'].notnull(\n",
    ")]['list_director'].items() for item in sublist]"
   ]
  },
  {
   "cell_type": "code",
   "execution_count": 208,
   "metadata": {},
   "outputs": [],
   "source": [
    "film = film.drop(['country', 'list_country'],\n",
    "                 axis=1).join(pd.DataFrame(flat_country_film_data,\n",
    "                                           columns=['index', 'country']).set_index('index'))\n",
    "film = film.drop(['cast', 'list_cast'],\n",
    "                 axis=1).join(pd.DataFrame(flat_cast_film_data,\n",
    "                                           columns=['index', 'cast']).set_index('index'))\n",
    "film = film.drop('listed_in', axis=1).join(pd.DataFrame(flat_genres_film_data,\n",
    "                                                        columns=['index', 'genres']).set_index('index'))\n",
    "film = film.drop(['director', 'list_director'],\n",
    "                 axis=1).join(pd.DataFrame(flat_director_film_data,\n",
    "                                           columns=['index', 'director']).set_index('index'))"
   ]
  },
  {
   "cell_type": "code",
   "execution_count": 209,
   "metadata": {},
   "outputs": [
    {
     "data": {
      "text/plain": [
       "show_id                   0\n",
       "title                     0\n",
       "release_year              0\n",
       "rating                   64\n",
       "duration                  0\n",
       "description               0\n",
       "original_title          932\n",
       "production_companies    773\n",
       "release_date            932\n",
       "poster_path             771\n",
       "revenue                 935\n",
       "vote_average            935\n",
       "vote_count              818\n",
       "country                  31\n",
       "cast                      6\n",
       "genres                    0\n",
       "director                 19\n",
       "dtype: int64"
      ]
     },
     "execution_count": 209,
     "metadata": {},
     "output_type": "execute_result"
    }
   ],
   "source": [
    "film.isnull().sum()"
   ]
  },
  {
   "cell_type": "code",
   "execution_count": 212,
   "metadata": {},
   "outputs": [
    {
     "data": {
      "text/plain": [
       "show_id                  object\n",
       "title                    object\n",
       "release_year              int64\n",
       "rating                   object\n",
       "duration                 object\n",
       "description              object\n",
       "original_title           object\n",
       "production_companies     object\n",
       "release_date             object\n",
       "poster_path              object\n",
       "revenue                 float64\n",
       "vote_average            float64\n",
       "vote_count              float64\n",
       "country                  object\n",
       "cast                     object\n",
       "genres                   object\n",
       "director                 object\n",
       "dtype: object"
      ]
     },
     "execution_count": 212,
     "metadata": {},
     "output_type": "execute_result"
    }
   ],
   "source": [
    "film.dtypes"
   ]
  },
  {
   "cell_type": "code",
   "execution_count": 218,
   "metadata": {},
   "outputs": [],
   "source": [
    "ticket_film = pd.merge(ticket, film, on='show_id')"
   ]
  },
  {
   "cell_type": "code",
   "execution_count": 219,
   "metadata": {},
   "outputs": [
    {
     "data": {
      "text/plain": [
       "orderid                 1975\n",
       "cashier                    0\n",
       "saledate                1975\n",
       "total                      0\n",
       "customerid                 0\n",
       "ticketcode                 0\n",
       "date                       0\n",
       "time                       0\n",
       "slot                       0\n",
       "room                       0\n",
       "film                       0\n",
       "slot type                  0\n",
       "ticket type                0\n",
       "ticket price               0\n",
       "popcorn                    0\n",
       "title_clean                0\n",
       "show_id                    0\n",
       "title                      0\n",
       "release_year               0\n",
       "rating                  6595\n",
       "duration                   0\n",
       "description                0\n",
       "original_title             0\n",
       "production_companies       0\n",
       "release_date               0\n",
       "poster_path                0\n",
       "revenue                    0\n",
       "vote_average               0\n",
       "vote_count                 0\n",
       "country                 6435\n",
       "cast                       0\n",
       "genres                     0\n",
       "director                   0\n",
       "dtype: int64"
      ]
     },
     "execution_count": 219,
     "metadata": {},
     "output_type": "execute_result"
    }
   ],
   "source": [
    "ticket_film.isnull().sum()"
   ]
  },
  {
   "cell_type": "code",
   "execution_count": 222,
   "metadata": {},
   "outputs": [],
   "source": [
    "with pd.ExcelWriter('DATA SET - VÒNG 1 CUỘC THI DATA GOT TALENT 2023 CLEAN VER5.xlsx') as writer:\n",
    "    customers.to_excel(writer, sheet_name='customer', index=False)\n",
    "    ticket.to_excel(writer, sheet_name='ticket', index=False)\n",
    "    film.to_excel(writer, sheet_name='film', index=False)"
   ]
  },
  {
   "cell_type": "code",
   "execution_count": 223,
   "metadata": {},
   "outputs": [],
   "source": [
    "ticket_film.to_excel('MAP_TICKET_AND_FILM.xlsx', index=False)"
   ]
  },
  {
   "cell_type": "code",
   "execution_count": null,
   "metadata": {},
   "outputs": [],
   "source": []
  }
 ],
 "metadata": {
  "kernelspec": {
   "display_name": "base",
   "language": "python",
   "name": "python3"
  },
  "language_info": {
   "codemirror_mode": {
    "name": "ipython",
    "version": 3
   },
   "file_extension": ".py",
   "mimetype": "text/x-python",
   "name": "python",
   "nbconvert_exporter": "python",
   "pygments_lexer": "ipython3",
   "version": "3.11.5"
  }
 },
 "nbformat": 4,
 "nbformat_minor": 2
}
